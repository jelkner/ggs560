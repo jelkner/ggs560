{
 "cells": [
  {
   "cell_type": "markdown",
   "metadata": {
    "collapsed": true
   },
   "source": [
    "**Jeffrey Elkner**"
   ]
  },
  {
   "cell_type": "markdown",
   "metadata": {},
   "source": [
    "**Descriptive Statistics**\n",
    "\n",
    "\n",
    "The following comma-seperated value file, `GGS560_HW2_Data_Hurricane.csv`, was exported from an xls file which in turn was dervived from the NOAA/AOML web site at http://www.aoml.noaa.gov/hrd/tcfaq/E11.html. The data file contains the number of named storms in the Atlantic basin from 1851 to 2008 (2009 version of the data file).\n",
    "\n",
    "> *Note:* The first row in the csv file contains the merged first two rows of the original xls file to fix a problem in the orginial with two of the column headings being incorrectly seperated."
   ]
  },
  {
   "cell_type": "code",
   "execution_count": 1,
   "metadata": {
    "scrolled": true
   },
   "outputs": [
    {
     "data": {
      "text/plain": [
       "[['Year', 'Named Storms', 'Hurricanes', 'Major Hurricanes', 'ACE'],\n",
       " ['1851', '6', '3', '1', '36'],\n",
       " ['1852', '5', '5', '1', '73'],\n",
       " ['1853', '8', '4', '2', '76'],\n",
       " ['1854', '5', '3', '1', '31'],\n",
       " ['1855', '5', '4', '1', '18'],\n",
       " ['1856', '6', '4', '2', '49'],\n",
       " ['1857', '4', '3', '0', '43'],\n",
       " ['1858', '6', '6', '0', '45'],\n",
       " ['1859', '8', '7', '1', '61']]"
      ]
     },
     "execution_count": 1,
     "metadata": {},
     "output_type": "execute_result"
    }
   ],
   "source": [
    "import csv\n",
    "\n",
    "with open('Data/GGS560_HW2_Data_Hurricane.csv') as csvfile:\n",
    "    reader = csv.reader(csvfile)\n",
    "    data = list(reader)\n",
    "\n",
    "# Display the first 10 lines of this file to confirm it looks right\n",
    "data[:10]"
   ]
  },
  {
   "cell_type": "markdown",
   "metadata": {},
   "source": [
    "(1) Display a vertical chart for the distribution of the number (the 2nd column) of named storms. That is, show the frequency of given numbers of named storm (a histogram plot [equivalent to Dot Plot] instead of a time series plot). Your plot should tell readers how many years in which there were a specific number of named storms from 1 to the maximum number). (3 points)"
   ]
  },
  {
   "cell_type": "code",
   "execution_count": 2,
   "metadata": {},
   "outputs": [
    {
     "data": {
      "text/plain": [
       "{1: 1,\n",
       " 2: 2,\n",
       " 3: 3,\n",
       " 4: 10,\n",
       " 5: 16,\n",
       " 6: 18,\n",
       " 7: 16,\n",
       " 8: 18,\n",
       " 9: 13,\n",
       " 10: 11,\n",
       " 11: 18,\n",
       " 12: 11,\n",
       " 13: 5,\n",
       " 14: 4,\n",
       " 15: 4,\n",
       " 16: 3,\n",
       " 18: 1,\n",
       " 19: 2,\n",
       " 21: 1,\n",
       " 28: 1}"
      ]
     },
     "execution_count": 2,
     "metadata": {},
     "output_type": "execute_result"
    }
   ],
   "source": [
    "# SOLUTION: Solution:  Create a dictionary named_storms_frequency_counts\n",
    "# with the number of named storms in a year as the key and the number\n",
    "# of occurances of this as the value.\n",
    "\n",
    "named_storms_frequency_counts = {}\n",
    "\n",
    "for row in data[1:]:\n",
    "    named_storms_count = int(row[1])\n",
    "    if named_storms_count not in named_storms_frequency_counts:\n",
    "        named_storms_frequency_counts[named_storms_count] = 1\n",
    "    else:\n",
    "        named_storms_frequency_counts[named_storms_count] += 1\n",
    "\n",
    "named_storms_frequency_counts"
   ]
  },
  {
   "cell_type": "code",
   "execution_count": 3,
   "metadata": {
    "collapsed": true
   },
   "outputs": [],
   "source": [
    "# Turn named_storms_frequency_counts into a list with values set to the\n",
    "# number of years in which a given frequency of named storms occurred,\n",
    "# with the frequency stored implicitly as the list index.\n",
    "\n",
    "max_count = max(named_storms_frequency_counts)\n",
    "\n",
    "frequency_count_list = [named_storms_frequency_counts.get(i, 0)\n",
    "                        for i in range(max_count + 1)]"
   ]
  },
  {
   "cell_type": "code",
   "execution_count": 4,
   "metadata": {
    "scrolled": true
   },
   "outputs": [
    {
     "data": {
      "image/png": "[encoded data removed]",
      "text/plain": [
       "<matplotlib.figure.Figure at 0x7f4cec7ccba8>"
      ]
     },
     "metadata": {},
     "output_type": "display_data"
    }
   ],
   "source": [
    "# Generate a histogram from these values.\n",
    "\n",
    "import matplotlib.pyplot as plt\n",
    "\n",
    "plt.bar(range(len(frequency_count_list)), frequency_count_list)\n",
    "plt.title('Histogram of Named Storm Frequencies Between 1850 and 2008')\n",
    "plt.xticks(range(0, 29, 2))\n",
    "plt.xlabel('Number of Named Storms in the Year')\n",
    "plt.yticks(range(0, 19, 2))\n",
    "plt.ylabel('Number of Years with this Frequency')\n",
    "plt.axis('equal')\n",
    "plt.show()"
   ]
  },
  {
   "cell_type": "markdown",
   "metadata": {},
   "source": [
    "(2) What is the mode (are the modes) of the number(s) of named storms? (2 points)"
   ]
  },
  {
   "cell_type": "code",
   "execution_count": 5,
   "metadata": {},
   "outputs": [
    {
     "name": "stdout",
     "output_type": "stream",
     "text": [
      "[6, 8, 11]\n"
     ]
    }
   ],
   "source": [
    "# SOLUTION: The modes will be the value(s) with the highest frequency\n",
    "# in the list, so we iterate over the list indices and add those whose\n",
    "# values match the maximum value to the mode list.\n",
    "\n",
    "modes = [i for i in range(len(frequency_count_list))\n",
    "         if frequency_count_list[i] == max(frequency_count_list)]\n",
    "print(modes)"
   ]
  },
  {
   "cell_type": "markdown",
   "metadata": {},
   "source": [
    "(3) Display a histogram of ACE data (the 5th column) distribution using ACE value ranges from 1 to 250 with an interval of 10 (i.e., the breaking points are 10, 20, 30, …, 240). (5 points)"
   ]
  },
  {
   "cell_type": "code",
   "execution_count": 6,
   "metadata": {},
   "outputs": [
    {
     "data": {
      "image/png": "[encoded data removed]",
      "text/plain": [
       "<matplotlib.figure.Figure at 0x7f4cd40b0978>"
      ]
     },
     "metadata": {},
     "output_type": "display_data"
    }
   ],
   "source": [
    "# SOLUTION: The histogram will have 25 bins, so create a list named\n",
    "# ace_counts of length 25.\n",
    "\n",
    "ace_counts = [0] * 25\n",
    "\n",
    "# Then traverse the data set, incrementing the appropriate bin for each\n",
    "# year. For most values, integer division of the ACE value by 10 will\n",
    "# generate the appropriate bin, but the special case for multiples of 10\n",
    "# will have to be handled.\n",
    "\n",
    "for year in data[1:]:\n",
    "    ace_value = int(year[4])\n",
    "    # handle the multiple of 10 special case first\n",
    "    if ace_value % 10 == 0:\n",
    "        ace_counts[ace_value // 10 - 1] += 1\n",
    "    else:\n",
    "        ace_counts[ace_value // 10] += 1\n",
    "\n",
    "xlabels = ['{0}-{1}'.format(i, i + 9) for i in range(1, 250, 10)]\n",
    "\n",
    "plt.bar(range(len(ace_counts)), ace_counts)\n",
    "plt.title('Histogram of ACE Values Between 1850 and 2008')\n",
    "plt.xticks(range(0, len(ace_counts)), xlabels, rotation='vertical')\n",
    "plt.xlabel('ACE Value')\n",
    "plt.yticks(range(1, 20, 2))\n",
    "plt.ylabel('Number of Years within Range')\n",
    "plt.show()"
   ]
  },
  {
   "cell_type": "markdown",
   "metadata": {},
   "source": [
    "(4) Find the midrange value and median of the number of named storms. (4 points)"
   ]
  },
  {
   "cell_type": "code",
   "execution_count": 7,
   "metadata": {},
   "outputs": [
    {
     "data": {
      "text/plain": [
       "14.5"
      ]
     },
     "execution_count": 7,
     "metadata": {},
     "output_type": "execute_result"
    }
   ],
   "source": [
    "# SOLUTION: Create a list with the number of named storms\n",
    "# (column 2 in the original data)\n",
    "num_named_storms = [int(year[1]) for year in data[1:]]\n",
    "\n",
    "# The midrange is the midpoint between the min and max values.\n",
    "midrange = (min(num_named_storms) + max(num_named_storms)) / 2.0\n",
    "midrange"
   ]
  },
  {
   "cell_type": "code",
   "execution_count": 8,
   "metadata": {},
   "outputs": [
    {
     "name": "stdout",
     "output_type": "stream",
     "text": [
      "8.0\n"
     ]
    }
   ],
   "source": [
    "# Computing the median is easier with a function. Use python's built-in\n",
    "# sorted(...) function to arrange the values from least to greatest.\n",
    "# Find the mid index using integer division (//). Use the modulus operator\n",
    "# (%) to determine if the number of items in the data set is odd or even,\n",
    "# and either return the middle element or the average of the middle two\n",
    "# respectively.\n",
    "\n",
    "def median(original_data):\n",
    "    data = sorted(original_data)\n",
    "    mid = len(data) // 2\n",
    "    if len(data) % 2 == 0:   # data has even number of values\n",
    "        return (data[mid - 1] + data[mid]) / 2\n",
    "    return data[mid]\n",
    "\n",
    "print(median(num_named_storms))"
   ]
  },
  {
   "cell_type": "markdown",
   "metadata": {},
   "source": [
    "(5) Compute the mean number of storms for the whole period and two sub-time-periods, 1970-1994 and 1995-2008. \n",
    "\n",
    "> Note: Since this assignment is for practice of computing descriptive statistics, intermediate steps should be included with the final results. The detail level should be similar to the level showed in TABLE 3-5 on Page 112 (attached). (6 points)"
   ]
  },
  {
   "cell_type": "code",
   "execution_count": 9,
   "metadata": {},
   "outputs": [
    {
     "data": {
      "text/plain": [
       "8.79"
      ]
     },
     "execution_count": 9,
     "metadata": {},
     "output_type": "execute_result"
    }
   ],
   "source": [
    "# SOLUTION\n",
    "# Compute the mean number of storms for the whole period using\n",
    "# Python's built-in sum(...) function to get the sum of the values\n",
    "# in the data set, and the len(...) function to get the number of\n",
    "# values.  Use round(...) to round to two significant digits.\n",
    "\n",
    "mean = sum(num_named_storms) / len(num_named_storms)\n",
    "round(mean, 2)"
   ]
  },
  {
   "cell_type": "code",
   "execution_count": 10,
   "metadata": {},
   "outputs": [
    {
     "data": {
      "text/plain": [
       "9.28"
      ]
     },
     "execution_count": 10,
     "metadata": {},
     "output_type": "execute_result"
    }
   ],
   "source": [
    "# Compute the mean for the sub-time-period 1970-1994.\n",
    "# First create a list of the values for the years between 1970 and\n",
    "# 1994 using a list comprehension, then compute the mean as in the\n",
    "# previous example.\n",
    "\n",
    "num_named_storms_1970_94 = [int(year[1]) for year in data[1:]\n",
    "                            if 1970 <= int(year[0]) <= 1994]\n",
    "\n",
    "mean = sum(num_named_storms_1970_94) / len(num_named_storms_1970_94)\n",
    "round(mean, 2)"
   ]
  },
  {
   "cell_type": "code",
   "execution_count": 11,
   "metadata": {},
   "outputs": [
    {
     "data": {
      "text/plain": [
       "14.86"
      ]
     },
     "execution_count": 11,
     "metadata": {},
     "output_type": "execute_result"
    }
   ],
   "source": [
    "# Compute the mean for the sub-time-period 1995-2008\n",
    "\n",
    "num_named_storms_1995_2008 = [int(year[1]) for year in data[1:]\n",
    "                              if 1995 <= int(year[0]) <= 2008]\n",
    "\n",
    "mean = sum(num_named_storms_1995_2008) / len(num_named_storms_1995_2008)\n",
    "round(mean, 2)"
   ]
  }
 ],
 "metadata": {
  "kernelspec": {
   "display_name": "Python 3",
   "language": "python",
   "name": "python3"
  },
  "language_info": {
   "codemirror_mode": {
    "name": "ipython",
    "version": 3
   },
   "file_extension": ".py",
   "mimetype": "text/x-python",
   "name": "python",
   "nbconvert_exporter": "python",
   "pygments_lexer": "ipython3",
   "version": "3.4.2"
  }
 },
 "nbformat": 4,
 "nbformat_minor": 2
}
