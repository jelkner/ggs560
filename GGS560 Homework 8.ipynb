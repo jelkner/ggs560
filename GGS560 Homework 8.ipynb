{
 "cells": [
  {
   "cell_type": "markdown",
   "metadata": {},
   "source": [
    "## Jeffrey Elkner\n",
    "\n",
    "### Question 1:\n",
    "\n",
    "In IPCC AR5 (IPCC 2013), the global surface temperature changes are calculated based on different data sets for different periods. One of them is using the GISS data set. The result for the period 1979-2012 is that the temperature changes 0.161 +/- 0.033 oC per decade. \n",
    "\n",
    "The GLOBAL Temperature Anomalies data from NASA GISS (Goddard Institute for Space Studies) Surface Temperature Analysis project data (Ts) can be found at http://data.giss.nasa.gov/gistemp/tabledata/GLB.Ts.txt with information at http://data.giss.nasa.gov/gistemp/. An old version of the data partially cleaned is also included with the package. Please use the provided data in the period 1979-2012 for the following questions:\n",
    "\n",
    "> (a). Use the D-N (December to November annual mean anomaly) as the dependent variable and the year as independent variable to build a linear regression model. Give the values of the intercept and the slope. (4 points) "
   ]
  },
  {
   "cell_type": "code",
   "execution_count": 1,
   "metadata": {},
   "outputs": [
    {
     "name": "stdout",
     "output_type": "stream",
     "text": [
      "    Year  D-N\n",
      "0   1979   16\n",
      "1   1980   37\n",
      "2   1981   41\n",
      "3   1982   13\n",
      "4   1983   40\n",
      "5   1984   22\n",
      "6   1985   19\n",
      "7   1986   24\n",
      "8   1987   37\n",
      "9   1988   50\n",
      "10  1989   37\n",
      "11  1990   51\n",
      "12  1991   51\n",
      "13  1992   22\n",
      "14  1993   26\n",
      "15  1994   34\n",
      "16  1995   55\n",
      "17  1996   45\n",
      "18  1997   51\n",
      "19  1998   82\n",
      "20  1999   61\n",
      "21  2000   57\n",
      "22  2001   66\n",
      "23  2002   81\n",
      "24  2003   75\n",
      "25  2004   70\n",
      "26  2005   86\n",
      "27  2006   78\n",
      "28  2007   89\n",
      "29  2008   66\n",
      "30  2009   80\n",
      "31  2010   94\n",
      "32  2011   79\n",
      "33  2012   79\n",
      "\n",
      "D-N mean: 53.35\n",
      "D-N variance: 567.63\n",
      "D-N standard deviation: 23.82\n"
     ]
    },
    {
     "data": {
      "image/png": "[encoded data removed]",
      "text/plain": [
       "<matplotlib.figure.Figure at 0x7fd0cefb28d0>"
      ]
     },
     "metadata": {},
     "output_type": "display_data"
    },
    {
     "name": "stdout",
     "output_type": "stream",
     "text": [
      "Slope: 2.09 Intercept: -4110.21\n"
     ]
    }
   ],
   "source": [
    "# SOLUTION: Using the following resources:\n",
    "# http://greenteapress.com/thinkstats2/html/thinkstats2011.html\n",
    "# https://en.wikipedia.org/wiki/Linear_regression\n",
    "import pandas as pd\n",
    "import matplotlib.pyplot as plt; plt.rcdefaults()\n",
    "import numpy as np\n",
    "import thinkstats2 as ts\n",
    "import thinkplot as tp\n",
    "\n",
    "\n",
    "file = 'Data/GGS560_HW8_Data.xlsx'\n",
    "xl = pd.ExcelFile(file)\n",
    "data = xl.parse('Sheet1')\n",
    "\n",
    "# First let's look at the raw data and grab the two Series we want\n",
    "print(data)\n",
    "xs = data['Year']\n",
    "ys = data['D-N']\n",
    "\n",
    "# Display some descriptive stats\n",
    "print('\\nD-N mean: {:0.2f}'.format(ys.mean()))\n",
    "print('D-N variance: {:0.2f}'.format(ys.var()))\n",
    "print('D-N standard deviation: {:0.2f}'.format(ys.std()))\n",
    "\n",
    "# Display a histogram of the values\n",
    "tp.Hist(ts.Hist(ys))\n",
    "tp.Show(title='Frequency of D-N Annual Anomaly Values',\n",
    "        xlabel='December to November annual mean anomaly',\n",
    "        ylabel='frequency')\n",
    "\n",
    "# Save and print the slope and intercept of least squares line\n",
    "inter, slope = ts.LeastSquares(xs, ys)\n",
    "print('Slope: {:0.2f} Intercept: {:0.2f}'.format(slope, inter))\n",
    "\n",
    "# Finally, let's plot the best fit line along with the data\n",
    "fit_xs, fit_ys = ts.FitLine(xs, inter, slope)"
   ]
  },
  {
   "cell_type": "markdown",
   "metadata": {},
   "source": [
    "> (b). Is the slope significantly different from zero? (6 points)"
   ]
  },
  {
   "cell_type": "code",
   "execution_count": null,
   "metadata": {
    "collapsed": true
   },
   "outputs": [],
   "source": []
  },
  {
   "cell_type": "markdown",
   "metadata": {},
   "source": [
    "> (c). What is the meaning of the slope value? (6 points)"
   ]
  },
  {
   "cell_type": "code",
   "execution_count": null,
   "metadata": {
    "collapsed": true
   },
   "outputs": [],
   "source": []
  },
  {
   "cell_type": "markdown",
   "metadata": {},
   "source": [
    "> (d). Please use the results above to make the estimates on the temperature growth rate and its uncertainty range in the given period, in a format similar to that in AR5. In other words, based on your results, give numbers in “warming rate +/- uncertainty (C/decade)” format. Please also clarify the mechanism for the uncertainty estimation (14 points)"
   ]
  },
  {
   "cell_type": "code",
   "execution_count": null,
   "metadata": {
    "collapsed": true
   },
   "outputs": [],
   "source": []
  },
  {
   "cell_type": "markdown",
   "metadata": {},
   "source": [
    "### Question 2:\n",
    "\n",
    "Kang, Lingjun et al. (2014) analyzed the NDVI variations with several parameters in different models. One set of the sub-sampled data is given in the attached folder in Shape files for ArcGIS. Please perform the followings:\n",
    "\n",
    "> (a). Use ‘vi’ as the dependent variable and ‘clay’ as the independent variable to have a simple linear regression. Report the regression slope, the significance level of the slope and R2. (10 points)"
   ]
  },
  {
   "cell_type": "code",
   "execution_count": null,
   "metadata": {
    "collapsed": true
   },
   "outputs": [],
   "source": []
  },
  {
   "cell_type": "markdown",
   "metadata": {},
   "source": [
    "> (b). Still use ‘vi’ as the dependent variable and ‘prcp,’ ‘perm,’ and ‘clay’ as the independent variables to have a multiple linear regression. Report the regression slopes, the significance levels of the slopes and model R2. (10 points)"
   ]
  },
  {
   "cell_type": "code",
   "execution_count": null,
   "metadata": {
    "collapsed": true
   },
   "outputs": [],
   "source": []
  },
  {
   "cell_type": "markdown",
   "metadata": {},
   "source": [
    "> (c). Discuss difference of the regression coefficients in the simple regression model and the multiple regression model for ‘clay.’ Could you give any reasons for the difference? (10 points)"
   ]
  },
  {
   "cell_type": "code",
   "execution_count": null,
   "metadata": {
    "collapsed": true
   },
   "outputs": [],
   "source": []
  },
  {
   "cell_type": "markdown",
   "metadata": {},
   "source": [
    "### Bonus Questions (various points):\n",
    "\n",
    "> (d). What is the VIF value for clay in the multiple regression model? Could you compute that value by yourself?"
   ]
  },
  {
   "cell_type": "code",
   "execution_count": null,
   "metadata": {
    "collapsed": true
   },
   "outputs": [],
   "source": []
  },
  {
   "cell_type": "markdown",
   "metadata": {},
   "source": [
    "> (e). Discuss the quality of both models with quantitative supports (open-end)."
   ]
  },
  {
   "cell_type": "code",
   "execution_count": null,
   "metadata": {
    "collapsed": true
   },
   "outputs": [],
   "source": []
  }
 ],
 "metadata": {
  "kernelspec": {
   "display_name": "Python 3",
   "language": "python",
   "name": "python3"
  },
  "language_info": {
   "codemirror_mode": {
    "name": "ipython",
    "version": 3
   },
   "file_extension": ".py",
   "mimetype": "text/x-python",
   "name": "python",
   "nbconvert_exporter": "python",
   "pygments_lexer": "ipython3",
   "version": "3.4.2"
  }
 },
 "nbformat": 4,
 "nbformat_minor": 2
}
