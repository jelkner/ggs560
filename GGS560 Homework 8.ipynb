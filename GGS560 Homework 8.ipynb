{
 "cells": [
  {
   "cell_type": "markdown",
   "metadata": {},
   "source": [
    "## Jeffrey Elkner\n",
    "\n",
    "### Question 1:\n",
    "\n",
    "In IPCC AR5 (IPCC 2013), the global surface temperature changes are calculated based on different data sets for different periods. One of them is using the GISS data set. The result for the period 1979-2012 is that the temperature changes 0.161 +/- 0.033 oC per decade. \n",
    "\n",
    "The GLOBAL Temperature Anomalies data from NASA GISS (Goddard Institute for Space Studies) Surface Temperature Analysis project data (Ts) can be found at http://data.giss.nasa.gov/gistemp/tabledata/GLB.Ts.txt with information at http://data.giss.nasa.gov/gistemp/. An old version of the data partially cleaned is also included with the package. Please use the provided data in the period 1979-2012 for the following questions:\n",
    "\n",
    "> (a). Use the D-N (December to November annual mean anomaly) as the dependent variable and the year as independent variable to build a linear regression model. Give the values of the intercept and the slope. (4 points) "
   ]
  },
  {
   "cell_type": "code",
   "execution_count": null,
   "metadata": {
    "collapsed": true
   },
   "outputs": [],
   "source": []
  },
  {
   "cell_type": "markdown",
   "metadata": {},
   "source": [
    "> (b). Is the slope significantly different from zero? (6 points)"
   ]
  },
  {
   "cell_type": "code",
   "execution_count": null,
   "metadata": {
    "collapsed": true
   },
   "outputs": [],
   "source": []
  },
  {
   "cell_type": "markdown",
   "metadata": {},
   "source": [
    "> (c). What is the meaning of the slope value? (6 points)"
   ]
  },
  {
   "cell_type": "code",
   "execution_count": null,
   "metadata": {
    "collapsed": true
   },
   "outputs": [],
   "source": []
  },
  {
   "cell_type": "markdown",
   "metadata": {},
   "source": [
    "> (d). Please use the results above to make the estimates on the temperature growth rate and its uncertainty range in the given period, in a format similar to that in AR5. In other words, based on your results, give numbers in “warming rate +/- uncertainty (C/decade)” format. Please also clarify the mechanism for the uncertainty estimation (14 points)"
   ]
  },
  {
   "cell_type": "code",
   "execution_count": null,
   "metadata": {
    "collapsed": true
   },
   "outputs": [],
   "source": []
  },
  {
   "cell_type": "markdown",
   "metadata": {},
   "source": [
    "### Question 2:\n",
    "\n",
    "Kang, Lingjun et al. (2014) analyzed the NDVI variations with several parameters in different models. One set of the sub-sampled data is given in the attached folder in Shape files for ArcGIS. Please perform the followings:\n",
    "\n",
    "> (a). Use ‘vi’ as the dependent variable and ‘clay’ as the independent variable to have a simple linear regression. Report the regression slope, the significance level of the slope and R2. (10 points)"
   ]
  },
  {
   "cell_type": "code",
   "execution_count": null,
   "metadata": {
    "collapsed": true
   },
   "outputs": [],
   "source": []
  },
  {
   "cell_type": "markdown",
   "metadata": {},
   "source": [
    "> (b). Still use ‘vi’ as the dependent variable and ‘prcp,’ ‘perm,’ and ‘clay’ as the independent variables to have a multiple linear regression. Report the regression slopes, the significance levels of the slopes and model R2. (10 points)"
   ]
  },
  {
   "cell_type": "code",
   "execution_count": null,
   "metadata": {
    "collapsed": true
   },
   "outputs": [],
   "source": []
  },
  {
   "cell_type": "markdown",
   "metadata": {},
   "source": [
    "> (c). Discuss difference of the regression coefficients in the simple regression model and the multiple regression model for ‘clay.’ Could you give any reasons for the difference? (10 points)"
   ]
  },
  {
   "cell_type": "code",
   "execution_count": null,
   "metadata": {
    "collapsed": true
   },
   "outputs": [],
   "source": []
  },
  {
   "cell_type": "markdown",
   "metadata": {},
   "source": [
    "### Bonus Questions (various points):\n",
    "\n",
    "> (d). What is the VIF value for clay in the multiple regression model? Could you compute that value by yourself?"
   ]
  },
  {
   "cell_type": "code",
   "execution_count": null,
   "metadata": {
    "collapsed": true
   },
   "outputs": [],
   "source": []
  },
  {
   "cell_type": "markdown",
   "metadata": {},
   "source": [
    "> (e). Discuss the quality of both models with quantitative supports (open-end)."
   ]
  },
  {
   "cell_type": "code",
   "execution_count": null,
   "metadata": {
    "collapsed": true
   },
   "outputs": [],
   "source": []
  }
 ],
 "metadata": {
  "kernelspec": {
   "display_name": "Python 3",
   "language": "python",
   "name": "python3"
  },
  "language_info": {
   "codemirror_mode": {
    "name": "ipython",
    "version": 3
   },
   "file_extension": ".py",
   "mimetype": "text/x-python",
   "name": "python",
   "nbconvert_exporter": "python",
   "pygments_lexer": "ipython3",
   "version": "3.4.2"
  }
 },
 "nbformat": 4,
 "nbformat_minor": 2
}
