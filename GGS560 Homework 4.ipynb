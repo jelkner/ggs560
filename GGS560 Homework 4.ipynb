{
 "cells": [
  {
   "cell_type": "markdown",
   "metadata": {},
   "source": [
    "## Jeffrey Elkner"
   ]
  },
  {
   "cell_type": "markdown",
   "metadata": {
    "collapsed": true
   },
   "source": [
    "### Problem 1: Binomial distribution\n",
    "\n",
    "The maximum temperature reached on any day can be classified as above freezing (a success) or below freezing (a failure). In a certain city of eastern North America, January weather statistics indicate the probability a January day will be above freezing is .20. Use the binomial distribution to determine the probabilities in the following."
   ]
  },
  {
   "cell_type": "code",
   "execution_count": 1,
   "metadata": {},
   "outputs": [
    {
     "data": {
      "image/png": "[encoded data removed]",
      "text/plain": [
       "<matplotlib.figure.Figure at 0x7f45163bcd30>"
      ]
     },
     "metadata": {},
     "output_type": "display_data"
    }
   ],
   "source": [
    "# SOLUTION: Before answering the following individual questions, generate a\n",
    "# binomial distribution plot using\n",
    "# http://www.astroml.org/book_figures/chapter3/fig_binomial_distribution.html\n",
    "# as a reference.\n",
    "from scipy.stats import binom\n",
    "from matplotlib import pyplot as plt\n",
    "\n",
    "dist = binom(7, 0.2)\n",
    "x = range(0, 8)\n",
    "plt.plot(x, dist.pmf(x), color='black', linestyle='steps-mid')\n",
    "plt.xlabel('$x$')\n",
    "plt.ylabel(r'$p(x|b, n)$')\n",
    "plt.title('Binomial Distribution')\n",
    "plt.show()"
   ]
  },
  {
   "cell_type": "markdown",
   "metadata": {},
   "source": [
    "(a) Exactly two of the next seven January days will be above freezing; (3 points)"
   ]
  },
  {
   "cell_type": "code",
   "execution_count": 2,
   "metadata": {
    "scrolled": true
   },
   "outputs": [
    {
     "name": "stdout",
     "output_type": "stream",
     "text": [
      "The chance that exactly 2 of the next 7 days will be above freezing is 27.525%.\n"
     ]
    }
   ],
   "source": [
    "# SOLUTION\n",
    "s = \"The chance that exactly 2 of the next 7 days will\"\n",
    "s += \" be above freezing is {}%.\"\n",
    "print(s.format(round(dist.pmf(2) * 100, 3)))"
   ]
  },
  {
   "cell_type": "markdown",
   "metadata": {},
   "source": [
    "(b) More than five of the next seven days will be above freezing; (3 points)"
   ]
  },
  {
   "cell_type": "code",
   "execution_count": 3,
   "metadata": {},
   "outputs": [
    {
     "name": "stdout",
     "output_type": "stream",
     "text": [
      "The chance that more than 5 of the next 7 days will be above freezing is 0.037%.\n"
     ]
    }
   ],
   "source": [
    "# SOLUTION: More than 5 days will be above freezing during the next\n",
    "# week (7 days) is satisfied if either 6 or 7 days are above freezing.\n",
    "# Since these events are mutually exclusive, their combined probability\n",
    "# is there sum.\n",
    "s = \"The chance that more than 5 of the next 7 days will be\"\n",
    "s += \" above freezing is {}%.\"\n",
    "print(s.format(round((dist.pmf(6) + dist.pmf(7)) * 100, 3)))"
   ]
  },
  {
   "cell_type": "markdown",
   "metadata": {},
   "source": [
    "(c) There will be at least one day above freezing in the next seven days; (5 points)"
   ]
  },
  {
   "cell_type": "code",
   "execution_count": 4,
   "metadata": {},
   "outputs": [
    {
     "name": "stdout",
     "output_type": "stream",
     "text": [
      "The chance that at least 1 of the next 7 days will be above freezing is 79.028%.\n"
     ]
    }
   ],
   "source": [
    "# SOLUTION\n",
    "s = \"The chance that at least 1 of the next 7 days will be\"\n",
    "s += \" above freezing is {}%.\"\n",
    "chance = sum([dist.pmf(x) for x in range(1, 8)]) * 100\n",
    "print(s.format(round(chance, 3)))"
   ]
  },
  {
   "cell_type": "markdown",
   "metadata": {},
   "source": [
    "(d) All seven days in the next week will be above freezing; (3 points)"
   ]
  },
  {
   "cell_type": "code",
   "execution_count": 5,
   "metadata": {},
   "outputs": [
    {
     "name": "stdout",
     "output_type": "stream",
     "text": [
      "The chance that all 7 of the next 7 days will be above freezing is 0.001%.\n"
     ]
    }
   ],
   "source": [
    "# SOLUTION\n",
    "s = \"The chance that all 7 of the next 7 days will be above\"\n",
    "s += \" freezing is {}%.\"\n",
    "print(s.format(round(dist.pmf(7) * 100, 3)))"
   ]
  },
  {
   "cell_type": "markdown",
   "metadata": {},
   "source": [
    "(e) All seven days in the next week will be above freezing if the given observed probability is 0.50 instead of 0.20; (2 points)"
   ]
  },
  {
   "cell_type": "code",
   "execution_count": 6,
   "metadata": {},
   "outputs": [
    {
     "name": "stdout",
     "output_type": "stream",
     "text": [
      "The chance that all 7 of the next 7 days will be above freezing is 0.781%.\n"
     ]
    }
   ],
   "source": [
    "# SOLUTION\n",
    "dist = binom(7, 0.5)\n",
    "s = \"The chance that all 7 of the next 7 days will be above\"\n",
    "s += \" freezing is {}%.\"\n",
    "print(s.format(round(dist.pmf(7) * 100, 3)))"
   ]
  },
  {
   "cell_type": "markdown",
   "metadata": {},
   "source": [
    "(f) Is this a reasonable application of the Binomial distribution? Why or why not? (4 points)"
   ]
  },
  {
   "cell_type": "markdown",
   "metadata": {},
   "source": [
    "*Solution:* Since weather conditions are a spacial phenomenon (weather systems cover large, slow moving areas), the assumption that the temperature on a given day is completely independent of the temperature on nearby days does not seem reasonable."
   ]
  },
  {
   "cell_type": "markdown",
   "metadata": {},
   "source": [
    "### Problem 1: Poisson distribution\n",
    "\n",
    "(a) Based on the results of HW2, we know that the average number of named storms in the Atlantic basin is 9 (8.79 actually) per year. Calculate and plot the Poisson distribution with λ=9 for x values from 0 to 28. (4 points)"
   ]
  },
  {
   "cell_type": "code",
   "execution_count": 7,
   "metadata": {},
   "outputs": [
    {
     "data": {
      "image/png": "[encoded data removed]",
      "text/plain": [
       "<matplotlib.figure.Figure at 0x7f451607d048>"
      ]
     },
     "metadata": {},
     "output_type": "display_data"
    }
   ],
   "source": [
    "# SOLUTION: Using:\n",
    "# https://docs.scipy.org/doc/scipy/reference/generated/scipy.stats.poisson.html\n",
    "# as a reference.\n",
    "from scipy.stats import poisson\n",
    "\n",
    "dist = poisson(9)\n",
    "x = range(0, 29)\n",
    "y = dist.pmf(x)\n",
    "\n",
    "plt.plot(x, y, 'ko', ms=4)\n",
    "plt.vlines(x, 0, y, colors='b', lw=3, alpha=0.5)\n",
    "plt.show()"
   ]
  },
  {
   "cell_type": "markdown",
   "metadata": {},
   "source": [
    "(b) For a given year, what are the chances (probabilities) that the area will have no named storm, 16 named storms, and 28 named storms? (6 points)"
   ]
  },
  {
   "cell_type": "code",
   "execution_count": 8,
   "metadata": {},
   "outputs": [
    {
     "name": "stdout",
     "output_type": "stream",
     "text": [
      "The chance that the area will have 0 named storms is 0.01234%.\n",
      "The chance that the area will have 16 named storms is 1.09297%.\n",
      "The chance that the area will have 28 named storms is 0.00002%.\n"
     ]
    }
   ],
   "source": [
    "# SOLUTION\n",
    "s = \"The chance that the area will have {} named storms is {:.5f}%.\"\n",
    "for numstorms in 0, 16, 28:\n",
    "    print(s.format(numstorms, dist.pmf(numstorms) * 100))"
   ]
  },
  {
   "cell_type": "markdown",
   "metadata": {},
   "source": [
    "(c) Based on the above results, for a sufficiently long time, on average, in how many years, there will be 28 named storms in the area in a given year? 16 named storms? In other words, what are the return periods for 28 named storms in a year and for 16 named storms? Do you believe these numbers? Why? (Note: This is an open question, bonus points will be issued to unexpected and reasonable answers.) (10 points)\n",
    "\n",
    "> Hint: please read the hint page for part c on the definition of return periods."
   ]
  },
  {
   "cell_type": "code",
   "execution_count": 9,
   "metadata": {
    "scrolled": true
   },
   "outputs": [
    {
     "name": "stdout",
     "output_type": "stream",
     "text": [
      "We should expect to see 28 named storms occur once in about 4720640 years.\n",
      "We should expect to see 16 named storms occur once in about 91 years.\n"
     ]
    }
   ],
   "source": [
    "# SOLUTION\n",
    "# We are looking for the return period in this question, and the\n",
    "# following wikipedia article was helpful to me in trying to understand\n",
    "# this better: https://en.wikipedia.org/wiki/Return_period\n",
    "s = \"We should expect to see {} named storms occur once in about {} years.\"\n",
    "for numstorms in 28, 16:\n",
    "    print(s.format(numstorms, int(round(1 / dist.pmf(numstorms)))))"
   ]
  },
  {
   "cell_type": "markdown",
   "metadata": {},
   "source": [
    "Are these results reasonable?  Any statistical predication about a system that is undergoing change, especially long term predictions, are suspect.  The experience of this past storm season, for example, which set records in terms of storm severity and damage, appears to be related to the warming trend in oceanic temperatures. If that is indeed the case, we can expect any model which assumed ocean temperature as a constant to be invalid."
   ]
  },
  {
   "cell_type": "markdown",
   "metadata": {},
   "source": [
    "### Problem 2: Normal Distribution\n",
    "\n",
    "Suppose that we have a z-score of value 2.5, z<sub>0</sub>,\n",
    "\n",
    "(a) What is the probability of p(z ≤ z<sub>0</sub>)? (3 points)"
   ]
  },
  {
   "cell_type": "code",
   "execution_count": 10,
   "metadata": {},
   "outputs": [
    {
     "name": "stdout",
     "output_type": "stream",
     "text": [
      "The chance that z is less than or equal to 2.5 standard deviations\n",
      "above the norm is 99.379%.\n"
     ]
    }
   ],
   "source": [
    "# SOLUTION: With the help of some useful resources:\n",
    "# https://docs.scipy.org/doc/scipy-0.16.1/reference/generated/scipy.stats.norm.html\n",
    "# https://stackoverflow.com/q/20864847\n",
    "from scipy.stats import norm\n",
    "\n",
    "s = \"The chance that z is less than or equal to 2.5 standard\"\n",
    "s += \" deviations\\nabove the norm is {}%.\"\n",
    "print(s.format(round(norm.cdf(2.5) * 100, 3)))"
   ]
  },
  {
   "cell_type": "markdown",
   "metadata": {},
   "source": [
    "> *Note*: This result is consistant with the value of 0.994 for z = 2.50 and P(Z < z) in Table A-3 on page 627 of our text."
   ]
  },
  {
   "cell_type": "markdown",
   "metadata": {},
   "source": [
    "(b) What is the probability of p(z ≥ z<sub>0</sub>)? (2 points)"
   ]
  },
  {
   "cell_type": "code",
   "execution_count": 11,
   "metadata": {
    "scrolled": true
   },
   "outputs": [
    {
     "name": "stdout",
     "output_type": "stream",
     "text": [
      "The chance that z is greater than or equal to 2.5 standarddeviations\n",
      "above the norm is 0.621%.\n"
     ]
    }
   ],
   "source": [
    "s = \"The chance that z is greater than or equal to 2.5 standard\"\n",
    "s += \"deviations\\nabove the norm is {}%.\"\n",
    "print(s.format(round((1 - norm.cdf(2.5)) * 100, 3)))"
   ]
  },
  {
   "cell_type": "markdown",
   "metadata": {},
   "source": [
    "(c) What is the probability of p(-z<sub>0</sub> ≤ z ≤ z<sub>0</sub>)? (3 points)"
   ]
  },
  {
   "cell_type": "code",
   "execution_count": 12,
   "metadata": {},
   "outputs": [
    {
     "name": "stdout",
     "output_type": "stream",
     "text": [
      "The chance that z is between -2.5 and 2.5 standard deviations\n",
      "from the norm is 98.758%.\n"
     ]
    }
   ],
   "source": [
    "s = \"The chance that z is between -2.5 and 2.5 standard deviations\"\n",
    "s += \"\\nfrom the norm is {}%.\"\n",
    "print(s.format(round((norm.cdf(2.5) - norm.cdf(-2.5)) * 100, 3)))"
   ]
  },
  {
   "cell_type": "markdown",
   "metadata": {},
   "source": [
    "(d) What is the probability of p(z<sub>0</sub> ≤ |z|)? (4 points)"
   ]
  },
  {
   "cell_type": "code",
   "execution_count": 13,
   "metadata": {},
   "outputs": [
    {
     "name": "stdout",
     "output_type": "stream",
     "text": [
      "The chance that z is either less than -2.5 or greater than\n",
      "2.5 standard deviations from the norm is 1.242%.\n"
     ]
    }
   ],
   "source": [
    "s = \"The chance that z is either less than -2.5 or greater than\"\n",
    "s += \"\\n2.5 standard deviations from the norm is {}%.\"\n",
    "print(s.format(round((norm.cdf(-2.5) + (1 - norm.cdf(2.5))) * 100, 3)))"
   ]
  },
  {
   "cell_type": "markdown",
   "metadata": {},
   "source": [
    "> Note: (z<sub>0</sub> is not involved in the following questions)\n",
    "\n",
    "(e) What is the z-score (z<sub>found</sub>) such that p(z ≥ z<sub>found</sub>) = 0.01? (4 points)"
   ]
  },
  {
   "cell_type": "code",
   "execution_count": 14,
   "metadata": {},
   "outputs": [
    {
     "name": "stdout",
     "output_type": "stream",
     "text": [
      "The z-score with a 1% chance of being exceeded is 2.326.\n"
     ]
    }
   ],
   "source": [
    "s = \"The z-score with a 1% chance of being exceeded is {}.\"\n",
    "print(s.format(round(norm.ppf(0.99), 3)))"
   ]
  },
  {
   "cell_type": "markdown",
   "metadata": {},
   "source": [
    "> *Note*: This result is consistant with the value of z = 2.30 for P(Z < -z) = 0.011 in Table A-3 of our text."
   ]
  },
  {
   "cell_type": "markdown",
   "metadata": {},
   "source": [
    "What is the z-score (z<sub>found</sub>) such that p(|z| ≥ z<sub>found</sub>) = 0.01? (4 points)"
   ]
  },
  {
   "cell_type": "code",
   "execution_count": 15,
   "metadata": {},
   "outputs": [
    {
     "name": "stdout",
     "output_type": "stream",
     "text": [
      "The z-score such that the chance is 1% that the z value will be\n",
      "either greater than it or less than it's negative is 2.326.\n"
     ]
    }
   ],
   "source": [
    "# SOLUTION: Since the normal function is symmetrical, the result here\n",
    "# will be the same as P(Z >= z_found) = 0.005, so it is given by:\n",
    "s = \"The z-score such that the chance is 1% that the z value will be\"\n",
    "s+= \"\\neither greater than it or less than it's negative is {}.\"\n",
    "print(s.format(round(norm.ppf(0.99), 3)))"
   ]
  }
 ],
 "metadata": {
  "kernelspec": {
   "display_name": "Python 3",
   "language": "python",
   "name": "python3"
  },
  "language_info": {
   "codemirror_mode": {
    "name": "ipython",
    "version": 3
   },
   "file_extension": ".py",
   "mimetype": "text/x-python",
   "name": "python",
   "nbconvert_exporter": "python",
   "pygments_lexer": "ipython3",
   "version": "3.4.2"
  }
 },
 "nbformat": 4,
 "nbformat_minor": 2
}
