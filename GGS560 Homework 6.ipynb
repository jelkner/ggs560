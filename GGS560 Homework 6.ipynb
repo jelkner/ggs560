{
 "cells": [
  {
   "cell_type": "markdown",
   "metadata": {},
   "source": [
    "## Jeffrey Elkner"
   ]
  },
  {
   "cell_type": "markdown",
   "metadata": {},
   "source": [
    "> **Notes:** \n",
    "\n",
    ">> 0. For each test, please provide your null hypothesis H0, alternative hypothesis, HA, test statistic (formula) and the distribution of the test statistic when H0 is true.\n",
    "\n",
    ">> 0. In each test conclusion, please provide the test statistic value, p-value, and your conclusion against α=0.05."
   ]
  },
  {
   "cell_type": "markdown",
   "metadata": {},
   "source": [
    "### Problem 1: Sample means\n",
    "\n",
    "The same data file used before, *number of named storms* are given in the Excel file: \n",
    "\n",
    "(a). Separate the data values into two groups: one for the time period 1970-1994 and the other for 1995-2008.\n",
    "     Compute means, variances, and standard deviations for the two groups separately. (2 points)\n"
   ]
  },
  {
   "cell_type": "code",
   "execution_count": 1,
   "metadata": {
    "scrolled": true
   },
   "outputs": [
    {
     "name": "stdout",
     "output_type": "stream",
     "text": [
      "Data for Named Storms 1970 to 1994:\n",
      "    sample size = 25\n",
      "    mean = 9.28\n",
      "    variance = 7.13\n",
      "    standard deviation = 2.67\n",
      "\n",
      "Data for Named Storms 1995 to 2008:\n",
      "    sample size = 14\n",
      "    mean = 14.86\n",
      "    variance = 21.82\n",
      "    standard deviation = 4.67\n",
      "\n"
     ]
    }
   ],
   "source": [
    "# SOLUTION\n",
    "import pandas as pd\n",
    "from ggs560.ggs560_tools import mean\n",
    "from ggs560.ggs560_tools import variance\n",
    "from ggs560.ggs560_tools import standard_deviation as sd\n",
    "\n",
    "file = 'Data/GGS560_HW6_Data.xlsx'\n",
    "xl = pd.ExcelFile(file)\n",
    "data = xl.parse('Storm_Data').values\n",
    "\n",
    "storms1970to1994 = [year[1] for year in data if 1970 <= year[0] <= 1994]\n",
    "storms1995to2008 = [year[1] for year in data if 1995 <= year[0] <= 2008]\n",
    "\n",
    "# compute and store means, variances and sample sizes.\n",
    "size_70to94 = len(storms1970to1994)\n",
    "size_95to08 = len(storms1995to2008)\n",
    "\n",
    "mean_70to94 = mean(storms1970to1994)\n",
    "mean_95to08 = mean(storms1995to2008)\n",
    "\n",
    "variance_70to94 = variance(storms1970to1994)\n",
    "variance_95to08 = variance(storms1995to2008)\n",
    "\n",
    "sd_70to94 = sd(storms1970to1994)\n",
    "sd_95to08 = sd(storms1995to2008)\n",
    "\n",
    "def display_data(heading, s, m, v, sd):\n",
    "    print(heading)\n",
    "    print(\"    sample size = {}\".format(s))\n",
    "    print(\"    mean = {:0.2f}\".format(m))\n",
    "    print(\"    variance = {:0.2f}\".format(v))\n",
    "    print(\"    standard deviation = {:0.2f}\\n\".format(sd))\n",
    "\n",
    "display_data(\"Data for Named Storms 1970 to 1994:\", size_70to94,\n",
    "             mean_70to94, variance_70to94, sd_70to94)\n",
    "          \n",
    "display_data(\"Data for Named Storms 1995 to 2008:\", size_95to08,\n",
    "             mean_95to08, variance_95to08, sd_95to08)"
   ]
  },
  {
   "cell_type": "markdown",
   "metadata": {},
   "source": [
    "(b). Test if the variances of the two groups are equal. (5 points)"
   ]
  },
  {
   "cell_type": "code",
   "execution_count": 2,
   "metadata": {},
   "outputs": [
    {
     "name": "stdout",
     "output_type": "stream",
     "text": [
      "The F-stat 3.06 is greater than the critical value 2.50,\n",
      "so hypothesis of equal variances is rejected.\n"
     ]
    }
   ],
   "source": [
    "# SOLUTION: Compute the F-stat, degrees of freedom, and critical value\n",
    "# for alpha = 0.05. If F-stat > critical value, reject the hypothesis\n",
    "# that the variances are equal.\n",
    "from scipy.stats import f\n",
    "\n",
    "F = variance_95to08 / variance_70to94\n",
    "df = (size_95to08 - 1, size_70to94 - 1)\n",
    "critval = f.ppf(0.975, df[0], df[1])\n",
    "\n",
    "msg1 = \"The F-stat {:0.2f} is less than the critical value {:0.2f},\\n\"\n",
    "msg1 += \"so we can not reject that variances are equal.\"\n",
    "msg2 = \"The F-stat {:0.2f} is greater than the critical value {:0.2f},\\n\"\n",
    "msg2 += \"so hypothesis of equal variances is rejected.\"\n",
    "\n",
    "if critval > F:\n",
    "    print(msg1.format(F, critval))\n",
    "else:\n",
    "    print(msg2.format(F, critval))"
   ]
  },
  {
   "cell_type": "markdown",
   "metadata": {},
   "source": [
    "We can check the above result by hand.\n",
    "\n",
    "We have $s_1^2 = 21.82$ and $s_2^2 = 7.13$, thus\n",
    "\n",
    "$$f = \\frac{21.82}{7.13} = 3.06$$\n",
    "\n",
    "With $r_1 = 13$ and $r_2 = 24$, using table A-7 on page 639 of our text, we find that the critical value for $\\alpha = 0.05$ is between 2.54 and 2.44 ($r_1 = 12$ and $r_1 = 15$ respectively). $f$ exceeds the critical value, and we reject the null hypothesis.\n",
    "\n",
    "### Resources:\n",
    "* https://en.wikipedia.org/wiki/F-test_of_equality_of_variances\n",
    "* http://www.statisticshowto.com/how-to-conduct-a-statistical-f-test-to-compare-two-variances/\n",
    "* https://stackoverflow.com/questions/39813470/f-test-with-python-finding-the-critical-value"
   ]
  },
  {
   "cell_type": "markdown",
   "metadata": {},
   "source": [
    "(c). Based on your conclusions above on variance, choose a right test for testing if the 1995-2008 mean is\n",
    "     significantly larger than the 1970-1994 mean. (note: if you need to determine the degrees of freedom,\n",
    "     you may choose a simpler way) (8 points)"
   ]
  },
  {
   "cell_type": "code",
   "execution_count": 3,
   "metadata": {},
   "outputs": [
    {
     "name": "stdout",
     "output_type": "stream",
     "text": [
      "Degrees of freedom = 17.\n",
      "\n",
      "The T-stat 4.11 is greater than the critical value 1.74, so the\n",
      "null hypothesis is rejected, and we conclude with 95% confidence\n",
      "that the 1995-2008 is significantly greater than the 1970-1994 mean.\n"
     ]
    }
   ],
   "source": [
    "# SOLUTION: Since we could not establish that the variances are equal,\n",
    "# use the unequal variances method. Assume 1995-2008 mean is less than\n",
    "# or equal to 1970-1994 mean.\n",
    "from scipy.stats import t\n",
    "\n",
    "# To make calcuations easier, let's rename some things.\n",
    "x1 = mean_95to08\n",
    "x2 = mean_70to94\n",
    "s1 = variance_95to08\n",
    "s2 = variance_70to94\n",
    "n1 = size_95to08\n",
    "n2 = size_70to94\n",
    "\n",
    "# With python to do the computation, there is no need to use the\n",
    "# simpler degrees of freedom estimate.\n",
    "def df_for_unequal_variances(s1, s2, n1, n2):\n",
    "    return int((s1/n1 + s2/n2)**2 / ((s1/n1)**2/(n1-1) + (s2/n2)**2/(n2-1)))\n",
    "\n",
    "df = df_for_unequal_variances(s1, s2, n1, n2)\n",
    "\n",
    "print(\"Degrees of freedom = {}.\\n\".format(df))\n",
    "\n",
    "# Now use equation 9-4 to find the T-stat\n",
    "T = (x1 - x2) / (s1 / n1 + s2 / n2) ** 0.5\n",
    "critval = t.ppf(1-0.05, df)\n",
    "\n",
    "msg1 = \"The T-stat {:0.2f} is less than or equal to the critical\\n\"\n",
    "msg1 += \"value {:0.2f}, so we can not reject the null hypothesis.\"\n",
    "msg2 = \"The T-stat {:0.2f} is greater than the critical value {:0.2f}, so the\\n\"\n",
    "msg2 += \"null hypothesis is rejected, and we conclude with 95% confidence\\n\"\n",
    "msg2 += \"that the 1995-2008 is significantly greater than the 1970-1994 mean.\"\n",
    "\n",
    "if critval >= T:\n",
    "    print(msg1.format(T, critval))\n",
    "else:\n",
    "    print(msg2.format(T, critval))"
   ]
  },
  {
   "cell_type": "markdown",
   "metadata": {},
   "source": [
    "### Resources:\n",
    "* http://sites.nicholas.duke.edu/statsreview/means/welch/"
   ]
  },
  {
   "cell_type": "markdown",
   "metadata": {},
   "source": [
    "(d). For the 1970 to 1994 data only, test if the mean number of named storms in this particular period is\n",
    "     significantly different from the long time mean, 8.79, assuming that this long time mean is a fixed\n",
    "     number. (5 points)"
   ]
  },
  {
   "cell_type": "code",
   "execution_count": 4,
   "metadata": {
    "scrolled": true
   },
   "outputs": [
    {
     "name": "stdout",
     "output_type": "stream",
     "text": [
      "The T-stat 0.92 is less than or equal to the critical\n",
      "value 2.06, so we can not reject the null hypothesis\n",
      "that the mean of 1970 to 94 storms is significantly\n",
      "different from the long term mean.\n"
     ]
    }
   ],
   "source": [
    "# SOLUTION: Let the null hypothesis be that the 1970 to 1994 mean is\n",
    "# not significantly different from the population mean of 8.79.\n",
    "from scipy.stats import t\n",
    "\n",
    "# Since the standard deviation is not known, use the T-distribution\n",
    "# with alpha equal to 0.05. The sample size is 25, so df is 24.\n",
    "T = (mean_70to94 - 8.79) / (sd_70to94 / size_70to94**0.5)\n",
    "critval = t.ppf(1-0.025, size_70to94-1)\n",
    "\n",
    "msg1 = \"The T-stat {:0.2f} is less than or equal to the critical\\n\"\n",
    "msg1 += \"value {:0.2f}, so we can not reject the null hypothesis\\n\"\n",
    "msg1 += \"that the mean of 1970 to 94 storms is significantly\\n\"\n",
    "msg1 += \"different from the long term mean.\"\n",
    "msg2 = \"The T-stat {:0.2f} is greater than the critical value {:0.2f}, so the\\n\"\n",
    "msg2 += \"null hypothesis is rejected, and we conclude with 95% confidence\\n\"\n",
    "msg2 += \"that the mean for the 1970 to 94 storms is significantly different\\n\"\n",
    "msg2 += \"from the long term mean.\"\n",
    "\n",
    "if critval >= T:\n",
    "    print(msg1.format(T, critval))\n",
    "else:\n",
    "    print(msg2.format(T, critval))"
   ]
  },
  {
   "cell_type": "markdown",
   "metadata": {},
   "source": [
    "### Resources:\n",
    "* https://saylordotorg.github.io/text_introductory-statistics/s12-04-small-sample-tests-for-a-popul.html"
   ]
  },
  {
   "cell_type": "markdown",
   "metadata": {},
   "source": [
    "### Problem 2: Sample means and paired observations (modified problem 6 of Chapter 9 of the textbook)\n",
    "\n",
    "Dissolved oxygen data are given for before and after removal of vegetation at same sites along a given river. Please use the data set on the blackboard. The *values are modified* so that they are different from those in the textbook.\n",
    "\n",
    "(a). Conduct a matched-pair test to determine whether there is a change in dissolved oxygen level following\n",
    "     weed removal. (4 points)"
   ]
  },
  {
   "cell_type": "code",
   "execution_count": 5,
   "metadata": {},
   "outputs": [
    {
     "name": "stdout",
     "output_type": "stream",
     "text": [
      "BEFORE\tAFTER\tDIFFERENCE\n",
      "10.6\t10.2\t0.40\n",
      "9.8\t9.4\t0.40\n",
      "12.3\t11.8\t0.50\n",
      "9.7\t9.1\t0.60\n",
      "8.8\t8.5\t0.30\n",
      "10.0\t8.2\t1.80\n",
      "8.8\t8.2\t0.60\n",
      "10.6\t10.5\t0.10\n",
      "9.3\t9.4\t-0.10\n",
      "9.5\t9.1\t0.40\n",
      "\n",
      "The T-stat 3.13 is greater than the critical value 2.26, so the\n",
      "null hypothesis is rejected, and we conclude with 95% confidence\n",
      "that there is a significant change in values.\n"
     ]
    }
   ],
   "source": [
    "# SOLUTION: Use problem 6 as a model and rework with given values.\n",
    "# Null hypotheis: There is no change from before to after, so\n",
    "# D = 0\n",
    "data2 = xl.parse('P2_DO')\n",
    "before = data2['before'].tolist()\n",
    "after = data2['after'].tolist()\n",
    "diff = [before[i] - after[i] for i in range(len(before))]\n",
    "\n",
    "# To help reason about this data, let's display it.\n",
    "print(\"BEFORE\\tAFTER\\tDIFFERENCE\")\n",
    "for i in range(len(before)):\n",
    "    print(\"{}\\t{}\\t{:0.2f}\".format(before[i], after[i], diff[i]))\n",
    "print()\n",
    "    \n",
    "n = len(before)\n",
    "D = mean(diff)\n",
    "SD = sd(diff)\n",
    "\n",
    "T = D / (SD / n**0.5)\n",
    "critval = t.ppf(1-0.025, n-1)\n",
    "\n",
    "msg1 = \"The T-stat {:0.2f} is less than or equal to the critical\\n\"\n",
    "msg1 += \"value {:0.2f}, so we can not reject the null hypothesis\\n\"\n",
    "msg1 += \"that there is no significant change in values.\"\n",
    "msg2 = \"The T-stat {:0.2f} is greater than the critical value {:0.2f}, so the\\n\"\n",
    "msg2 += \"null hypothesis is rejected, and we conclude with 95% confidence\\n\"\n",
    "msg2 += \"that there is a significant change in values.\"\n",
    "\n",
    "if critval >= T:\n",
    "    print(msg1.format(T, critval))\n",
    "else:\n",
    "    print(msg2.format(T, critval))"
   ]
  },
  {
   "cell_type": "markdown",
   "metadata": {},
   "source": [
    "(b). Suppose the hypothesis being tested is that the dissolved oxygen levels have declined. How would this\n",
    "     change your results? (2 points)"
   ]
  },
  {
   "cell_type": "code",
   "execution_count": 6,
   "metadata": {},
   "outputs": [
    {
     "name": "stdout",
     "output_type": "stream",
     "text": [
      "The T-stat 3.13 is greater than the critical value 1.83, so we\n",
      "reject the null hypothesis and conclude with 95% confidence\n",
      "that oxygen levels have declined.\n"
     ]
    }
   ],
   "source": [
    "# SOLUTION: We change the null hypothesis to before is\n",
    "# greater than or equal to after and use a one-tailed\n",
    "# value for the test\n",
    "critval = t.ppf(1-0.05, n-1)\n",
    "\n",
    "msg1 = \"The T-stat {:0.2f} is less than or equal to the critical\\n\"\n",
    "msg1 += \"value {:0.2f}, so we can not reject the null hypothesis\\n\"\n",
    "msg1 += \"and conclude that there has been a decline in oxygen.\"\n",
    "msg2 = \"The T-stat {:0.2f} is greater than the critical value {:0.2f}, so we\\n\"\n",
    "msg2 += \"reject the null hypothesis and conclude with 95% confidence\\n\"\n",
    "msg2 += \"that oxygen levels have declined.\"\n",
    "\n",
    "if critval >= T:\n",
    "    print(msg1.format(T, critval))\n",
    "else:\n",
    "    print(msg2.format(T, critval))"
   ]
  },
  {
   "cell_type": "markdown",
   "metadata": {},
   "source": [
    "(c). If you hadn’t noticed that the data were matched pairs, what might you have concluded in a simple\n",
    "     difference-of-means test? (4 points) (hints: you may use built-in function to answer the question\n",
    "     in this part.)"
   ]
  },
  {
   "cell_type": "code",
   "execution_count": 7,
   "metadata": {},
   "outputs": [
    {
     "name": "stdout",
     "output_type": "stream",
     "text": [
      "The T-stat 1.03 is less than or equal to the critical\n",
      "value 1.74, so we can not reject the null hypothesis\n",
      "and conclude that there has been a decline in oxygen.\n"
     ]
    }
   ],
   "source": [
    "# SOLUTION: We would have to treat this as a difference of\n",
    "# means test, as in Prob. 1 Part c above.\n",
    "x1 = mean(before)\n",
    "x2 = mean(after)\n",
    "s1 = variance(before)\n",
    "s2 = variance(after)\n",
    "n1 = len(before)\n",
    "n2 = len(after)\n",
    "\n",
    "df = df_for_unequal_variances(s1, s2, n1, n2)\n",
    "T = (x1 - x2) / (s1 / n1 + s2 / n2) ** 0.5\n",
    "critval = t.ppf(1-0.05, df)\n",
    "\n",
    "msg1 = \"The T-stat {:0.2f} is less than or equal to the critical\\n\"\n",
    "msg1 += \"value {:0.2f}, so we can not reject the null hypothesis\\n\"\n",
    "msg1 += \"and conclude that there has been a decline in oxygen.\"\n",
    "msg2 = \"The T-stat {:0.2f} is greater than the critical value {:0.2f}, so we\\n\"\n",
    "msg2 += \"reject the null hypothesis and conclude with 95% confidence\\n\"\n",
    "msg2 += \"that oxygen levels have declined.\"\n",
    "\n",
    "if critval >= T:\n",
    "    print(msg1.format(T, critval))\n",
    "else:\n",
    "    print(msg2.format(T, critval))"
   ]
  },
  {
   "cell_type": "markdown",
   "metadata": {},
   "source": [
    "### Problem 3 (Bonus Question) Applications\n",
    "\n",
    "There are two alternative routes between a residential area and a downtown employment center. A transportation planner wants to know whether the mean number of cars using each route during the morning rush hours is the same. A survey over the period of 20 days on both routes reveals that the mean number of cars on Route A is 1040, and the mean number of cars on Route B is 950. Using the survey data, the analyst finds the standard deviations sA=160 and sB=130 cars, respectively. Could you draw a conclusion for the transportation planner? If the same statistics are obtained in 25 survey days, is the conclusion the same? Discuss the reasons if different. Which conclusion is more reliable? (xx points)\n",
    "\n",
    "> *Hints:* you need to set up the null and alternative hypotheses, define the test statistics, know the null distribution(s), get the p-values and draw the conclusion based on commonly accepted criteria. You may simply the problem by assuming certain conditions."
   ]
  },
  {
   "cell_type": "code",
   "execution_count": 8,
   "metadata": {},
   "outputs": [
    {
     "name": "stdout",
     "output_type": "stream",
     "text": [
      "The F-stat 1.09 is less than the critical value 2.53,\n",
      "so we can not reject that variances are equal.\n"
     ]
    }
   ],
   "source": [
    "# SOLUTION: Compute the F-stat, degrees of freedom, and critical value\n",
    "# for alpha = 0.05. If F-stat > critical value, reject the hypothesis\n",
    "# that the variances are equal.\n",
    "from scipy.stats import f\n",
    "\n",
    "xA = 1040\n",
    "xB = 950\n",
    "sA = 160**2\n",
    "sB = 130**2\n",
    "nA = 20\n",
    "nB = 20\n",
    "\n",
    "F =  xA / xB\n",
    "df = (nA - 1, nB - 1)\n",
    "critval = f.ppf(0.975, df[0], df[1])\n",
    "\n",
    "msg1 = \"The F-stat {:0.2f} is less than the critical value {:0.2f},\\n\"\n",
    "msg1 += \"so we can not reject that variances are equal.\"\n",
    "msg2 = \"The F-stat {:0.2f} is greater than the critical value {:0.2f},\\n\"\n",
    "msg2 += \"so hypothesis of equal variances is rejected.\"\n",
    "\n",
    "if critval > F:\n",
    "    print(msg1.format(F, critval))\n",
    "else:\n",
    "    print(msg2.format(F, critval))"
   ]
  },
  {
   "cell_type": "code",
   "execution_count": 9,
   "metadata": {},
   "outputs": [
    {
     "data": {
      "text/plain": [
       "0.013393175972477842"
      ]
     },
     "execution_count": 9,
     "metadata": {},
     "output_type": "execute_result"
    }
   ],
   "source": [
    "# Since we can't reject equal variances, let's assume they are equal.\n",
    "sP = ((nA - 1) * sA + (nB - 1) * sB) / (nA + nB - 2)\n",
    "SE = sP * (1/nA + 1/nB)**0.5\n",
    "\n",
    "# Make the null hypothesis that mean cars in each route are equal,\n",
    "# so D = 0.\n",
    "T = (xA - xB) / SE\n",
    "df = nA + nB - 2\n",
    "T"
   ]
  }
 ],
 "metadata": {
  "kernelspec": {
   "display_name": "Python 3",
   "language": "python",
   "name": "python3"
  },
  "language_info": {
   "codemirror_mode": {
    "name": "ipython",
    "version": 3
   },
   "file_extension": ".py",
   "mimetype": "text/x-python",
   "name": "python",
   "nbconvert_exporter": "python",
   "pygments_lexer": "ipython3",
   "version": "3.4.2"
  }
 },
 "nbformat": 4,
 "nbformat_minor": 2
}
