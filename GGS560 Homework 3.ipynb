{
 "cells": [
  {
   "cell_type": "markdown",
   "metadata": {},
   "source": [
    "**Jeffrey Elkner**"
   ]
  },
  {
   "cell_type": "markdown",
   "metadata": {},
   "source": [
    "(1)\tThe Excel file, GGS560_HW3_Data.xlsx, contains data from the NOAA/AOML web site at http://www.aoml.noaa.gov/hrd/tcfaq/E11.html. The values include the numbers of named storms in the Atlantic basin from 1851 to 2008 (2009 version of the data file). For simplifying the problem, the values were cut to the number of named storms data from 1995 to 2008 only. Please calculate the mean, variance, standard deviation, coefficient of variation, skewness (2), and kurtosis (2). (8 points). "
   ]
  },
  {
   "cell_type": "code",
   "execution_count": 1,
   "metadata": {},
   "outputs": [
    {
     "data": {
      "text/plain": [
       "['Hurricane_Data_Short', 'Chap3_Pb10', 'Household_Income', 'H11AR_2010']"
      ]
     },
     "execution_count": 1,
     "metadata": {},
     "output_type": "execute_result"
    }
   ],
   "source": [
    "# SOLUTION: Firstly, import the spreadsheet using the Pandas library.\n",
    "# Display the sheet names to confirm it has been imported.\n",
    "\n",
    "import pandas as pd\n",
    "\n",
    "file = 'GGS560_HW3_Data.xlsx'\n",
    "xl = pd.ExcelFile(file)\n",
    "\n",
    "xl.sheet_names"
   ]
  },
  {
   "cell_type": "code",
   "execution_count": 2,
   "metadata": {},
   "outputs": [
    {
     "data": {
      "text/html": [
       "<div>\n",
       "<style>\n",
       "    .dataframe thead tr:only-child th {\n",
       "        text-align: right;\n",
       "    }\n",
       "\n",
       "    .dataframe thead th {\n",
       "        text-align: left;\n",
       "    }\n",
       "\n",
       "    .dataframe tbody tr th {\n",
       "        vertical-align: top;\n",
       "    }\n",
       "</style>\n",
       "<table border=\"1\" class=\"dataframe\">\n",
       "  <thead>\n",
       "    <tr style=\"text-align: right;\">\n",
       "      <th></th>\n",
       "      <th>Year</th>\n",
       "      <th>Storms</th>\n",
       "    </tr>\n",
       "  </thead>\n",
       "  <tbody>\n",
       "    <tr>\n",
       "      <th>0</th>\n",
       "      <td>1995</td>\n",
       "      <td>19</td>\n",
       "    </tr>\n",
       "    <tr>\n",
       "      <th>1</th>\n",
       "      <td>1996</td>\n",
       "      <td>13</td>\n",
       "    </tr>\n",
       "    <tr>\n",
       "      <th>2</th>\n",
       "      <td>1997</td>\n",
       "      <td>8</td>\n",
       "    </tr>\n",
       "    <tr>\n",
       "      <th>3</th>\n",
       "      <td>1998</td>\n",
       "      <td>14</td>\n",
       "    </tr>\n",
       "    <tr>\n",
       "      <th>4</th>\n",
       "      <td>1999</td>\n",
       "      <td>12</td>\n",
       "    </tr>\n",
       "    <tr>\n",
       "      <th>5</th>\n",
       "      <td>2000</td>\n",
       "      <td>15</td>\n",
       "    </tr>\n",
       "    <tr>\n",
       "      <th>6</th>\n",
       "      <td>2001</td>\n",
       "      <td>15</td>\n",
       "    </tr>\n",
       "    <tr>\n",
       "      <th>7</th>\n",
       "      <td>2002</td>\n",
       "      <td>12</td>\n",
       "    </tr>\n",
       "    <tr>\n",
       "      <th>8</th>\n",
       "      <td>2003</td>\n",
       "      <td>16</td>\n",
       "    </tr>\n",
       "    <tr>\n",
       "      <th>9</th>\n",
       "      <td>2004</td>\n",
       "      <td>15</td>\n",
       "    </tr>\n",
       "    <tr>\n",
       "      <th>10</th>\n",
       "      <td>2005</td>\n",
       "      <td>28</td>\n",
       "    </tr>\n",
       "    <tr>\n",
       "      <th>11</th>\n",
       "      <td>2006</td>\n",
       "      <td>10</td>\n",
       "    </tr>\n",
       "    <tr>\n",
       "      <th>12</th>\n",
       "      <td>2007</td>\n",
       "      <td>15</td>\n",
       "    </tr>\n",
       "    <tr>\n",
       "      <th>13</th>\n",
       "      <td>2008</td>\n",
       "      <td>16</td>\n",
       "    </tr>\n",
       "  </tbody>\n",
       "</table>\n",
       "</div>"
      ],
      "text/plain": [
       "    Year  Storms\n",
       "0   1995      19\n",
       "1   1996      13\n",
       "2   1997       8\n",
       "3   1998      14\n",
       "4   1999      12\n",
       "5   2000      15\n",
       "6   2001      15\n",
       "7   2002      12\n",
       "8   2003      16\n",
       "9   2004      15\n",
       "10  2005      28\n",
       "11  2006      10\n",
       "12  2007      15\n",
       "13  2008      16"
      ]
     },
     "execution_count": 2,
     "metadata": {},
     "output_type": "execute_result"
    }
   ],
   "source": [
    "# The sheet of interest is in the 'Hurricane_Data_Short' sheet, so read\n",
    "# it into a data frame and display it. Since the heading 'Named Storms'\n",
    "# is split between 2 rows, skip the first row and just use 'Storms'.\n",
    "\n",
    "sheet = xl.parse('Hurricane_Data_Short', header=1)\n",
    "sheet"
   ]
  },
  {
   "cell_type": "markdown",
   "metadata": {},
   "source": [
    "The statistical functions needed in this assignment are built into the pandas Python library, but I am using my own implementations of these functions as required for this assignment. My source code is available at https://github.com/jelkner/ggs560.\n",
    "\n",
    "> Note: I have also attached a copy of the ggs560_tools.py module with this assignment submission."
   ]
  },
  {
   "cell_type": "code",
   "execution_count": 3,
   "metadata": {},
   "outputs": [
    {
     "name": "stdout",
     "output_type": "stream",
     "text": [
      "mean = 14.86\n",
      "variance = 21.82\n",
      "standard deviation = 4.67\n",
      "coefficient of variation = 0.31\n",
      "skewness = 1.40\n",
      "kurtosis = 5.34\n"
     ]
    }
   ],
   "source": [
    "# Get the 'Storms' column and compute the mean, variance, standard deviation,\n",
    "# coefficient of variation, skewness, and kurtosis on the sample data using\n",
    "# functions from my ggs560_tools.py module. Note: the variance,\n",
    "# standard_deviation, coefficient_of_variation, skewness, and kurtosis\n",
    "# functions have an optional population parameter set to False by default\n",
    "# which computes population rather than sample values when set to True.\n",
    "from ggs560.ggs560_tools import mean\n",
    "from ggs560.ggs560_tools import variance\n",
    "from ggs560.ggs560_tools import standard_deviation as sd\n",
    "from ggs560.ggs560_tools import coefficient_of_variation as cv\n",
    "from ggs560.ggs560_tools import skewness\n",
    "from ggs560.ggs560_tools import kurtosis\n",
    "\n",
    "data = sheet['Storms']\n",
    "\n",
    "print(\"mean = {:0.2f}\".format(mean(data)))\n",
    "print(\"variance = {:0.2f}\".format(variance(data)))\n",
    "print(\"standard deviation = {:0.2f}\".format(sd(data)))\n",
    "print(\"coefficient of variation = {:0.2f}\".format(cv(data)))\n",
    "print(\"skewness = {:0.2f}\".format(skewness(data)))\n",
    "print(\"kurtosis = {:0.2f}\".format(kurtosis(data)))"
   ]
  },
  {
   "cell_type": "markdown",
   "metadata": {},
   "source": [
    "(2)\t(A modified version of Problem 10 of the textbook): Twelve coordinate pairs and weights are given\n",
    "    in another data sheet in the same Excel file.\n",
    "\n"
   ]
  },
  {
   "cell_type": "code",
   "execution_count": 4,
   "metadata": {},
   "outputs": [
    {
     "data": {
      "text/html": [
       "<div>\n",
       "<style>\n",
       "    .dataframe thead tr:only-child th {\n",
       "        text-align: right;\n",
       "    }\n",
       "\n",
       "    .dataframe thead th {\n",
       "        text-align: left;\n",
       "    }\n",
       "\n",
       "    .dataframe tbody tr th {\n",
       "        vertical-align: top;\n",
       "    }\n",
       "</style>\n",
       "<table border=\"1\" class=\"dataframe\">\n",
       "  <thead>\n",
       "    <tr style=\"text-align: right;\">\n",
       "      <th></th>\n",
       "      <th>X</th>\n",
       "      <th>Y</th>\n",
       "      <th>Weight</th>\n",
       "    </tr>\n",
       "  </thead>\n",
       "  <tbody>\n",
       "    <tr>\n",
       "      <th>0</th>\n",
       "      <td>60</td>\n",
       "      <td>80</td>\n",
       "      <td>4</td>\n",
       "    </tr>\n",
       "    <tr>\n",
       "      <th>1</th>\n",
       "      <td>45</td>\n",
       "      <td>45</td>\n",
       "      <td>5</td>\n",
       "    </tr>\n",
       "    <tr>\n",
       "      <th>2</th>\n",
       "      <td>70</td>\n",
       "      <td>60</td>\n",
       "      <td>6</td>\n",
       "    </tr>\n",
       "    <tr>\n",
       "      <th>3</th>\n",
       "      <td>55</td>\n",
       "      <td>60</td>\n",
       "      <td>7</td>\n",
       "    </tr>\n",
       "    <tr>\n",
       "      <th>4</th>\n",
       "      <td>65</td>\n",
       "      <td>75</td>\n",
       "      <td>4</td>\n",
       "    </tr>\n",
       "    <tr>\n",
       "      <th>5</th>\n",
       "      <td>70</td>\n",
       "      <td>45</td>\n",
       "      <td>3</td>\n",
       "    </tr>\n",
       "    <tr>\n",
       "      <th>6</th>\n",
       "      <td>80</td>\n",
       "      <td>60</td>\n",
       "      <td>2</td>\n",
       "    </tr>\n",
       "    <tr>\n",
       "      <th>7</th>\n",
       "      <td>45</td>\n",
       "      <td>75</td>\n",
       "      <td>2</td>\n",
       "    </tr>\n",
       "    <tr>\n",
       "      <th>8</th>\n",
       "      <td>30</td>\n",
       "      <td>70</td>\n",
       "      <td>2</td>\n",
       "    </tr>\n",
       "    <tr>\n",
       "      <th>9</th>\n",
       "      <td>55</td>\n",
       "      <td>50</td>\n",
       "      <td>1</td>\n",
       "    </tr>\n",
       "    <tr>\n",
       "      <th>10</th>\n",
       "      <td>70</td>\n",
       "      <td>65</td>\n",
       "      <td>1</td>\n",
       "    </tr>\n",
       "    <tr>\n",
       "      <th>11</th>\n",
       "      <td>0</td>\n",
       "      <td>40</td>\n",
       "      <td>1</td>\n",
       "    </tr>\n",
       "  </tbody>\n",
       "</table>\n",
       "</div>"
      ],
      "text/plain": [
       "     X   Y  Weight\n",
       "0   60  80       4\n",
       "1   45  45       5\n",
       "2   70  60       6\n",
       "3   55  60       7\n",
       "4   65  75       4\n",
       "5   70  45       3\n",
       "6   80  60       2\n",
       "7   45  75       2\n",
       "8   30  70       2\n",
       "9   55  50       1\n",
       "10  70  65       1\n",
       "11   0  40       1"
      ]
     },
     "execution_count": 4,
     "metadata": {},
     "output_type": "execute_result"
    }
   ],
   "source": [
    "# The sheet of interest is in the 'Chap3_Pb10' sheet, so read it into a\n",
    "# data frame.\n",
    "sheet2 = xl.parse('Chap3_Pb10')\n",
    "sheet2"
   ]
  },
  {
   "cell_type": "markdown",
   "metadata": {},
   "source": [
    "         (a) Plot the data points (their relative locations on a sheet) (2 points)"
   ]
  },
  {
   "cell_type": "code",
   "execution_count": 5,
   "metadata": {},
   "outputs": [
    {
     "data": {
      "image/png": "[encoded data removed]",
      "text/plain": [
       "<matplotlib.figure.Figure at 0x7f4a9c0c1630>"
      ]
     },
     "metadata": {},
     "output_type": "display_data"
    }
   ],
   "source": [
    "# SOLUTION: Use matplotlib to make a scatter plot of the 'X' and 'Y' columns\n",
    "# from the dataframe.\n",
    "import matplotlib.pyplot as plt\n",
    "\n",
    "x = sheet2['X']\n",
    "y = sheet2['Y']\n",
    "\n",
    "plt.scatter(x, y)\n",
    "plt.gca().set_aspect('equal', adjustable='box')\n",
    "plt.show()"
   ]
  },
  {
   "cell_type": "markdown",
   "metadata": {},
   "source": [
    "         (b) Calculate simple mean (no weight) center and weighted mean center (6 points)"
   ]
  },
  {
   "cell_type": "code",
   "execution_count": 6,
   "metadata": {},
   "outputs": [
    {
     "name": "stdout",
     "output_type": "stream",
     "text": [
      "mean center = (53.75, 60.42)\n",
      "weighted mean center = (57.24, 61.18)\n"
     ]
    }
   ],
   "source": [
    "# SOLUTION: Add mean_center and weighted_mean_center functions to\n",
    "# ggs560_tools module and use them to compute after sheet2 data is converted\n",
    "# into expected format.\n",
    "from ggs560.ggs560_tools import mean_center\n",
    "from ggs560.ggs560_tools import weighted_mean_center\n",
    "\n",
    "points = [(sheet2['X'][i], sheet2['Y'][i]) for i in sheet2.index]\n",
    "x, y = mean_center(points)\n",
    "print(\"mean center = ({:0.2f}, {:0.2f})\".format(x, y))\n",
    "\n",
    "weights = [sheet2['Weight'][i] for i in sheet2.index]\n",
    "weights\n",
    "points_n_weights = [[points[i], weights[i]] for i in range(len(points))]\n",
    "x, y = weighted_mean_center(points_n_weights)\n",
    "print(\"weighted mean center = ({:0.2f}, {:0.2f})\".format(x, y))"
   ]
  },
  {
   "cell_type": "markdown",
   "metadata": {},
   "source": [
    "         (c) Calculate the weighted standard distance (5 points)"
   ]
  },
  {
   "cell_type": "code",
   "execution_count": 7,
   "metadata": {
    "scrolled": true
   },
   "outputs": [
    {
     "name": "stdout",
     "output_type": "stream",
     "text": [
      "weighted standard distance = 19.34\n"
     ]
    },
    {
     "data": {
      "image/png": "[encoded data removed]",
      "text/plain": [
       "<matplotlib.figure.Figure at 0x7f4a798de198>"
      ]
     },
     "metadata": {},
     "output_type": "display_data"
    }
   ],
   "source": [
    "# SOLUTION: Add weighted_standard_distance functions to ggs560_tools module\n",
    "# with data formatted as for weighted_mean_center.\n",
    "from ggs560.ggs560_tools import weighted_standard_distance\n",
    "from matplotlib.patches import Circle\n",
    "\n",
    "sd = weighted_standard_distance(points_n_weights)\n",
    "print(\"weighted standard distance = {:0.2f}\".format(sd))\n",
    "\n",
    "# Then use pyplot to draw the weighted standard distance as a shaded area\n",
    "# around the weighted mean center.\n",
    "\n",
    "x = sheet2['X']\n",
    "y = sheet2['Y']\n",
    "\n",
    "plt.scatter(x, y)\n",
    "wmx, wmy = weighted_mean_center(points_n_weights)\n",
    "plt.plot([wmx], [wmy], 'ro')\n",
    "plt.gca().annotate('WMC', xy=(wmx, wmy), xytext=(wmx + 1, wmy + 1))\n",
    "plt.gca().set_aspect('equal', adjustable='box')\n",
    "circle = plt.Circle((wmx, wmy), sd, color='red', alpha=0.2)\n",
    "plt.gca().add_artist(circle)\n",
    "plt.show()"
   ]
  },
  {
   "cell_type": "markdown",
   "metadata": {},
   "source": [
    "(3)\tThe US household income data can be found from the US Census bureau at\n",
    "    https://www.census.gov/data/tables/2017/demo/income-poverty/p60-259.html (or more specificly\n",
    "    at https://www2.census.gov/programs-surveys/demo/tables/p60/259/tableA1.xls). The 2016 household\n",
    "    Median income is `$`59,039 and the Mean income is `$`83,143. Which of the following statements is the\n",
    "    most suitable answer based on the income numbers above: (4 points)\n",
    "\n",
    "        (a) More families have household income less than the national mean household\n",
    "            income;\n",
    "  \n",
    "        (b) The household income distribution is positively skewed;\n",
    "\n",
    "        (c) Relatively, a small number of families have extremely high incomes\n",
    "            (a long tail in the positive side of the income distribution);\n",
    "\n",
    "        (d) All of above."
   ]
  },
  {
   "cell_type": "markdown",
   "metadata": {},
   "source": [
    "*Solution*: All of the above, (d).  The median value of `$`59,039 means half of families earn household incomes of less than that amount, so clearly more families earn less than the `$`83,143 mean. When the mean is higher than the median, the distribution is positively skewed, which means the distribution has a long tail on the postitive side of the income distribution as a result of a relatively small number of families having extremely high incomes."
   ]
  }
 ],
 "metadata": {
  "kernelspec": {
   "display_name": "Python 3",
   "language": "python",
   "name": "python3"
  },
  "language_info": {
   "codemirror_mode": {
    "name": "ipython",
    "version": 3
   },
   "file_extension": ".py",
   "mimetype": "text/x-python",
   "name": "python",
   "nbconvert_exporter": "python",
   "pygments_lexer": "ipython3",
   "version": "3.4.2"
  }
 },
 "nbformat": 4,
 "nbformat_minor": 2
}
