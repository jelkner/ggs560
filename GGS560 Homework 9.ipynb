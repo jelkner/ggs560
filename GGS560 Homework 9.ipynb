{
 "cells": [
  {
   "cell_type": "markdown",
   "metadata": {},
   "source": [
    "## Jeffrey Elkner\n",
    "\n",
    "### Problem: Point Pattern Descriptors\n",
    "\n",
    "The tracking data for Hurricane Bill (2009) is given in the attached package, suitable for ArcGIS. One folder contains the best track data via SHIPS database (SHIPS_2009Bill) and the other is a track forecasting data from NHC (National Hurricane Center) for Hurricane Bill at August 17 at 1500 (2009BillForecasting17_1500) for forecasting tracks in 12 hours interval for 3 days and 24 hour interval beyond that for up to 5 days.  Using the SHIPS data, please\n",
    "\n",
    "> a. Calculate the Standard Distance and output the SD value (3 points)"
   ]
  },
  {
   "cell_type": "code",
   "execution_count": null,
   "metadata": {},
   "outputs": [],
   "source": [
    "# SOLUTION\n",
    "# http://webspace.ship.edu/pgmarr/Geo441/Examples/Standard%20Distance.pdf\n",
    "import pandas as pd\n",
    "import matplotlib.pyplot as plt; plt.rcdefaults()\n",
    "from matplotlib.patches import Circle\n",
    "import numpy as np\n",
    "import thinkstats2 as ts\n",
    "import shapefile\n",
    "from ggs560.ggs560_tools import mean_center, standard_distance\n",
    "\n",
    "def shape2dataframe(path2shape):\n",
    "    sf = shapefile.Reader(path2shape)\n",
    "\n",
    "    #grab the shapefile's field names (omit the first psuedo field)\n",
    "    fields = [x[0] for x in sf.fields][1:]\n",
    "    records = sf.records()\n",
    "    shps = [s.points for s in sf.shapes()]\n",
    "\n",
    "    #write the records into a dataframe\n",
    "    shpdf = pd.DataFrame(columns=fields, data=records)\n",
    "\n",
    "    #add the coordinate data to a column called \"coords\"\n",
    "    shpdf = shpdf.assign(coords=shps)\n",
    "    \n",
    "    return shpdf\n",
    "\n",
    "df = shape2dataframe('Data/SHIPS_2009Bill/SHIPS_2009Bill')\n",
    "\n",
    "def calc_and_display_standard_distance(df, title=''):\n",
    "    xs = [point[0][0] for point in df.coords]\n",
    "    ys = [point[0][1] for point in df.coords]\n",
    "    cx, cy = mean_center(list(zip(xs, ys)))\n",
    "    sd = standard_distance(xs, ys)\n",
    "\n",
    "    # Print out the mean center and standard distance\n",
    "    s = \"The standard distance is {:0.2f} from mean center of ({:0.2f}, {:0.2f}).\"\n",
    "    print(s.format(sd, cx, cy))\n",
    "\n",
    "    plt.scatter(xs, ys)\n",
    "    plt.plot([cx], [cy], 'ro')\n",
    "    plt.gca().annotate('MC', xy=(cx, cy), xytext=(cx + 1, cy + 1))\n",
    "    plt.gca().set_aspect('equal')\n",
    "    circle = plt.Circle((cx, cy), sd, color='red', alpha=0.2)\n",
    "    plt.gca().add_artist(circle)\n",
    "    plt.title(title)\n",
    "    plt.xlabel('Longitute')\n",
    "    plt.ylabel('Latitude')\n",
    "    plt.show()\n",
    "    \n",
    "calc_and_display_standard_distance(df, 'Path of Hurricane Bill')"
   ]
  },
  {
   "cell_type": "markdown",
   "metadata": {},
   "source": [
    "> b. Calculate the deviational ellipse (Directional Distribution) and output the rotation angle, and the deviations along the major axis and minor axis. (3 points)"
   ]
  },
  {
   "cell_type": "code",
   "execution_count": null,
   "metadata": {},
   "outputs": [],
   "source": [
    "# SOLUTION\n",
    "# http://tinyurl.com/standarddeviationalellipse\n",
    "# http://tinyurl.com/standarddeviationalellipse2\n",
    "# http://tinyurl.com/standarddeviationalellipse3\n",
    "# http://blog.mmast.net/conics-matplotlib\n",
    "\n",
    "def directional_distribution_analysis(df):\n",
    "    xs = [point[0][0] for point in df.coords]\n",
    "    ys = [point[0][1] for point in df.coords]\n",
    "    cx, cy = mean_center(list(zip(xs, ys)))\n",
    "\n",
    "    # Move points to center at mean center\n",
    "    xps = [x_i - cx for x_i in xs]\n",
    "    yps = [y_i - cy for y_i in ys]\n",
    "\n",
    "    # Calulate A, B, and C\n",
    "    A = sum([x_i**2 for x_i in xps]) - sum([y_i**2 for y_i in yps])\n",
    "\n",
    "    # compute the sum of products of moved points\n",
    "    sop = sum([xps[i] * yps[i] for i in range(len(xps))])\n",
    "\n",
    "    B = (A**2 + 4 * sop**2)**0.5\n",
    "    C = 2 * sop\n",
    "\n",
    "    # Calculate the angle of rotation\n",
    "    tan_theta = (A + B) / C\n",
    "    theta = np.arctan(tan_theta)\n",
    "    s = \"The angle of rotation is {:0.2f} radians or {:0.2f} degrees.\"\n",
    "    print(s.format(theta, np.degrees([theta])[0]))\n",
    "\n",
    "    # Calculate deviations along major and minor axes\n",
    "    # Precalculate some values\n",
    "    n = len(xps)\n",
    "    cos_theta = np.cos(theta)\n",
    "    sin_theta = np.sin(theta)\n",
    "\n",
    "    # Calculate x-axis deviation\n",
    "    numeratorSigmaX =  sum([(xps[i] * cos_theta - yps[i] * sin_theta)**2 for i in range(n)])\n",
    "    SigmaX = 2**0.5 * (numeratorSigmaX / n)**0.5\n",
    "\n",
    "    # Calculate y-axis deviation\n",
    "    numeratorSigmaY =  sum([(xps[i] * sin_theta + yps[i] * cos_theta)**2 for i in range(n)])\n",
    "    SigmaY = 2**0.5 * (numeratorSigmaY / n)**0.5\n",
    "\n",
    "    s = \"The axes deviations are x-axis: {:0.2f} and y-axis: {:0.2f}.\"\n",
    "    print(s.format(SigmaX, SigmaY))\n",
    "    \n",
    "    return xs, ys, cx, cy, xps, yps, SigmaX, SigmaY \n",
    "\n",
    "\n",
    "xs, ys, cx, cy, xps, yps, SigmaX, SigmaY = directional_distribution_analysis(df)"
   ]
  },
  {
   "cell_type": "markdown",
   "metadata": {},
   "source": [
    "> c. Show that the total circular variance is conserved before and after the rotation or the conservation relationship between the standard distance and the semi-major and semi-minor axes of the deviational ellipse. (3 points)"
   ]
  },
  {
   "cell_type": "markdown",
   "metadata": {},
   "source": [
    "*Solution*: From slide 17 in our notes, we will verifying that $2(\\sigma_x^2 + \\sigma_y^2) = 2SD^2$."
   ]
  },
  {
   "cell_type": "code",
   "execution_count": null,
   "metadata": {},
   "outputs": [],
   "source": [
    "var1 = SigmaX**2 + SigmaY**2\n",
    "xssq = sum([(x - cx)**2 for x in xs])\n",
    "yssq = sum([(y - cy)**2 for y in ys])\n",
    "var2 = 2 * (xssq + yssq) / len(xs)\n",
    "\n",
    "print('{:0.2f} equals {:0.2f}?'.format(var1, var2))"
   ]
  },
  {
   "cell_type": "markdown",
   "metadata": {},
   "source": [
    "The results are equal and we have shown that circular variance is conserved."
   ]
  },
  {
   "cell_type": "markdown",
   "metadata": {},
   "source": [
    "> d. Use the forecasting data to repeat the Directional Distribution analysis. (1 point)"
   ]
  },
  {
   "cell_type": "code",
   "execution_count": null,
   "metadata": {},
   "outputs": [],
   "source": [
    "# SOLUTION\n",
    "df2 = shape2dataframe('Data/BillForcast/2009Bill_Forecasting17_1500')\n",
    "calc_and_display_standard_distance(df2, 'Forcasted Path of Hurricane Bill')\n",
    "results = directional_distribution_analysis(df2)"
   ]
  },
  {
   "cell_type": "markdown",
   "metadata": {},
   "source": [
    "> e. (Optional/open-end) Please compare the results of the directional distribution from the SHIPS data and from the forecasting data and discuss the possibility for using the forecasting data to cluster tracks of tropical cyclones. (xx points)"
   ]
  },
  {
   "cell_type": "markdown",
   "metadata": {
    "collapsed": true
   },
   "source": [
    "*SOLUTION*: The mean center and angle of rotation of both the actual path in the SHIPS data and that of the forcast appear fairly close, while the minor axis of the elipse of the actual path of Hurricane Bill is larger than that of the forcaste.  This is a result of the larger curvature of the actual path the hurricane followed."
   ]
  },
  {
   "cell_type": "markdown",
   "metadata": {},
   "source": [
    "#### Notes for additional information:\n",
    "0. The SHIPS data files can be found at ftp://rammftp.cira.colostate.edu/demaria/SHIPS/. One of the data files for the period 1989-2009 hurricane season can be downloaded at ftp://rammftp.cira.colostate.edu/demaria/SHIPS/2010/lsdiaga_1982_2009_rean_biascorr_sat.dat, and the corresponding document file for this data file is also available at ftp://rammftp.cira.colostate.edu/demaria/SHIPS/2009/SHIPS_predictor_file_2009.doc. The original data are in ASCII but the data are hard to handle.\n",
    "\n",
    "0. The forecasting data can be found at http://www.nhc.noaa.gov/data/. More information including the metadata information can also be found in the same site. "
   ]
  }
 ],
 "metadata": {
  "kernelspec": {
   "display_name": "Python 3",
   "language": "python",
   "name": "python3"
  },
  "language_info": {
   "codemirror_mode": {
    "name": "ipython",
    "version": 3
   },
   "file_extension": ".py",
   "mimetype": "text/x-python",
   "name": "python",
   "nbconvert_exporter": "python",
   "pygments_lexer": "ipython3",
   "version": "3.4.2"
  }
 },
 "nbformat": 4,
 "nbformat_minor": 2
}
