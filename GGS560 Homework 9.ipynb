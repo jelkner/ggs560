{
 "cells": [
  {
   "cell_type": "markdown",
   "metadata": {},
   "source": [
    "## Jeffrey Elkner\n",
    "\n",
    "### Problem: Point Pattern Descriptors\n",
    "\n",
    "The tracking data for Hurricane Bill (2009) is given in the attached package, suitable for ArcGIS. One folder contains the best track data via SHIPS database (SHIPS_2009Bill) and the other is a track forecasting data from NHC (National Hurricane Center) for Hurricane Bill at August 17 at 1500 (2009BillForecasting17_1500) for forecasting tracks in 12 hours interval for 3 days and 24 hour interval beyond that for up to 5 days.  Using the SHIPS data, please\n",
    "\n",
    "> a. Calculate the Standard Distance and output the SD value (3 points)"
   ]
  },
  {
   "cell_type": "code",
   "execution_count": 1,
   "metadata": {},
   "outputs": [
    {
     "data": {
      "image/png": "[encoded data removed]",
      "text/plain": [
       "<matplotlib.figure.Figure at 0x7fc8edafceb8>"
      ]
     },
     "metadata": {},
     "output_type": "display_data"
    }
   ],
   "source": [
    "# SOLUTION\n",
    "# http://webspace.ship.edu/pgmarr/Geo441/Examples/Standard%20Distance.pdf\n",
    "import pandas as pd\n",
    "import matplotlib.pyplot as plt; plt.rcdefaults()\n",
    "import numpy as np\n",
    "import thinkstats2 as ts\n",
    "import thinkplot as tp\n",
    "import shapefile\n",
    "from ggs560.ggs560_tools import mean_center, standard_distance\n",
    "\n",
    "def shape2dataframe(path2shape):\n",
    "    sf = shapefile.Reader(path2shape)\n",
    "\n",
    "    #grab the shapefile's field names (omit the first psuedo field)\n",
    "    fields = [x[0] for x in sf.fields][1:]\n",
    "    records = sf.records()\n",
    "    shps = [s.points for s in sf.shapes()]\n",
    "\n",
    "    #write the records into a dataframe\n",
    "    shpdf = pd.DataFrame(columns=fields, data=records)\n",
    "\n",
    "    #add the coordinate data to a column called \"coords\"\n",
    "    shpdf = shpdf.assign(coords=shps)\n",
    "    \n",
    "    return shpdf\n",
    "\n",
    "df = shape2dataframe('Data/SHIPS_2009Bill/SHIPS_2009Bill')\n",
    "\n",
    "df.coords[0][0][-1]\n",
    "len(df.coords)\n",
    "df.coords[36]\n",
    "\n",
    "xs = [point[0][0] for point in df.coords]\n",
    "ys = [point[0][1] for point in df.coords]\n",
    "cx, cy = mean_center(list(zip(xs, ys)))\n",
    "sd = standard_distance(xs, ys)\n",
    "\n",
    "tp.Scatter(xs, ys)\n",
    "tp.Plot(cx, cy, 'o')\n",
    "tp.Show()"
   ]
  },
  {
   "cell_type": "markdown",
   "metadata": {},
   "source": [
    "> b. Calculate the deviational ellipse (Directional Distribution) and output the rotation angle, the deviations along the major axis and minor axis. (3 points)"
   ]
  },
  {
   "cell_type": "code",
   "execution_count": null,
   "metadata": {
    "collapsed": true
   },
   "outputs": [],
   "source": []
  },
  {
   "cell_type": "markdown",
   "metadata": {},
   "source": [
    "> c. Show that the total circular variance is conserved before and after the rotation or the conservation relationship between the standard distance and the semi-major and semi-minor axes of the deviational ellipse. (3 points)"
   ]
  },
  {
   "cell_type": "code",
   "execution_count": null,
   "metadata": {
    "collapsed": true
   },
   "outputs": [],
   "source": []
  },
  {
   "cell_type": "markdown",
   "metadata": {},
   "source": [
    "> d. Use the forecasting data to repeat the Directional Distribution analysis. (1 point)"
   ]
  },
  {
   "cell_type": "code",
   "execution_count": null,
   "metadata": {
    "collapsed": true
   },
   "outputs": [],
   "source": []
  },
  {
   "cell_type": "markdown",
   "metadata": {},
   "source": [
    "> e. (Optional/open-end) Please compare the results of the directional distribution from the SHIPS data and from the forecasting data and discuss the possibility for using the forecasting data to cluster tracks of tropical cyclones. (xx points)"
   ]
  },
  {
   "cell_type": "code",
   "execution_count": 2,
   "metadata": {},
   "outputs": [],
   "source": [
    "df2 = shape2dataframe('Data/BillForcast/2009Bill_Forecasting17_1500')"
   ]
  },
  {
   "cell_type": "markdown",
   "metadata": {},
   "source": [
    "#### Notes for additional information:\n",
    "0. The SHIPS data files can be found at ftp://rammftp.cira.colostate.edu/demaria/SHIPS/. One of the data files for the period 1989-2009 hurricane season can be downloaded at ftp://rammftp.cira.colostate.edu/demaria/SHIPS/2010/lsdiaga_1982_2009_rean_biascorr_sat.dat, and the corresponding document file for this data file is also available at ftp://rammftp.cira.colostate.edu/demaria/SHIPS/2009/SHIPS_predictor_file_2009.doc. The original data are in ASCII but the data are hard to handle.\n",
    "\n",
    "0. The forecasting data can be found at http://www.nhc.noaa.gov/data/. More information including the metadata information can also be found in the same site. "
   ]
  }
 ],
 "metadata": {
  "kernelspec": {
   "display_name": "Python 3",
   "language": "python",
   "name": "python3"
  },
  "language_info": {
   "codemirror_mode": {
    "name": "ipython",
    "version": 3
   },
   "file_extension": ".py",
   "mimetype": "text/x-python",
   "name": "python",
   "nbconvert_exporter": "python",
   "pygments_lexer": "ipython3",
   "version": "3.4.2"
  }
 },
 "nbformat": 4,
 "nbformat_minor": 2
}
