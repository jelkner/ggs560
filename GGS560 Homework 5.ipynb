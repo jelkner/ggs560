{
 "cells": [
  {
   "cell_type": "markdown",
   "metadata": {},
   "source": [
    "## Jeffrey Elkner"
   ]
  },
  {
   "cell_type": "markdown",
   "metadata": {},
   "source": [
    "## Problem 1: Sampling Distribution\n",
    "\n",
    "> Use the textbook example, that is, a population of values (6, 6, 5, 4, 4) to draw samples of size n=2.\n",
    "\n",
    "(a). How many samples can we draw?   (4 points)"
   ]
  },
  {
   "cell_type": "markdown",
   "metadata": {},
   "source": [
    "*SOLUTION*: We have $\\binom{5}{2} = \\frac{5!}{2!(5-2)!} = \\frac{5 \\cdot 4}{2} = 10$ possible samples. With elements labeled 'A' through 'E', the list of samples is:"
   ]
  },
  {
   "cell_type": "code",
   "execution_count": 1,
   "metadata": {},
   "outputs": [
    {
     "name": "stdout",
     "output_type": "stream",
     "text": [
      "AB, AC, AD, AE, BC, BD, BE, CD, CE, DE\n"
     ]
    }
   ],
   "source": [
    "labels = 'ABCDE'\n",
    "i = 1\n",
    "s = ''\n",
    "for elem1 in labels[:-1]:\n",
    "    for elem2 in labels[i:]:\n",
    "        s += elem1 + elem2 + ', '\n",
    "    i += 1\n",
    "print(s[:-2])"
   ]
  },
  {
   "cell_type": "markdown",
   "metadata": {},
   "source": [
    "(b). Draw the samples and calculate the sample means. (8 points)"
   ]
  },
  {
   "cell_type": "code",
   "execution_count": 2,
   "metadata": {},
   "outputs": [
    {
     "name": "stdout",
     "output_type": "stream",
     "text": [
      "ELEMS  VALUES  MEAN\n",
      "AB     6, 6    6.0\n",
      "AC     6, 5    5.5\n",
      "AD     6, 4    5.0\n",
      "AE     6, 5    5.5\n",
      "BC     6, 5    5.5\n",
      "BD     6, 4    5.0\n",
      "BE     6, 5    5.5\n",
      "CD     5, 4    4.5\n",
      "CE     5, 5    5.0\n",
      "DE     4, 5    4.5\n"
     ]
    }
   ],
   "source": [
    "# SOLUTION: Print the table and gather mean counts for use in part (c):\n",
    "labels = 'ABCDE'\n",
    "values = (6, 6, 5, 4, 5)\n",
    "mean_counts = {}\n",
    "\n",
    "print('ELEMS  VALUES  MEAN')\n",
    "\n",
    "for i in range(len(values)):\n",
    "    for j in range(i+1, len(values)):\n",
    "        mean = (values[i] + values[j]) / 2\n",
    "        \n",
    "        print(\"{:7s}{:8s}{}\".format(labels[i] + labels[j],\n",
    "                                    str(values[i]) + ', ' + str(values[j]),\n",
    "                                    mean))\n",
    "        \n",
    "        mean_counts[mean] = 1 if mean not in mean_counts else mean_counts[mean] + 1"
   ]
  },
  {
   "cell_type": "markdown",
   "metadata": {},
   "source": [
    "(c). Display (Plot) the distribution of the sample means. (3 points)"
   ]
  },
  {
   "cell_type": "code",
   "execution_count": 3,
   "metadata": {},
   "outputs": [
    {
     "data": {
      "image/png": "[encoded data removed]",
      "text/plain": [
       "<matplotlib.figure.Figure at 0x7fcd78772320>"
      ]
     },
     "metadata": {},
     "output_type": "display_data"
    }
   ],
   "source": [
    "# SOLUTION\n",
    "import matplotlib.pyplot as plt\n",
    "\n",
    "mean_counts = sorted(mean_counts.items())\n",
    "means = [mean_count[0] for mean_count in mean_counts]\n",
    "freqs = [mean_count[1] for mean_count in mean_counts]\n",
    "\n",
    "plt.plot(means, freqs, 'ko', ms=3)\n",
    "plt.title('Distribution of Sample Means')\n",
    "plt.xticks(means)\n",
    "plt.xlabel('Sample Mean')\n",
    "plt.xlim(min(means)-0.5, max(means)+0.5)\n",
    "plt.yticks(range(0, max(freqs) + 1))\n",
    "plt.ylabel('Frequency')\n",
    "plt.vlines(means, 0, freqs, colors='b', lw=3, alpha=0.5)\n",
    "plt.show()"
   ]
  },
  {
   "cell_type": "markdown",
   "metadata": {},
   "source": [
    "## Problem 2: Confidence Interval (modified Problem 4 of Chapter 7 of the textbook)\n",
    "\n",
    "One yield data set from 10 farms are given in the attached data sheet. Assuming the yields are normally distributed, determine the 95% and 99% confidence intervals on the population mean yield. (10 points)"
   ]
  },
  {
   "cell_type": "code",
   "execution_count": 4,
   "metadata": {},
   "outputs": [
    {
     "name": "stdout",
     "output_type": "stream",
     "text": [
      "The 95% confidence interval for the data set is [30.499, 37.321]\n",
      "The 99% confidence interval for the data set is [29.010, 38.810]\n"
     ]
    }
   ],
   "source": [
    "# SOLUTION:\n",
    "# I've already written mean and standard_deviation functions in ggs_tools.py,\n",
    "# so I'll use them in a confidence_interval function for this exercise.\n",
    "# (see ggs560_tools.py attached for source code).\n",
    "import pandas as pd\n",
    "from ggs560.ggs560_tools import confidence_interval as ci\n",
    "\n",
    "file = 'GGS560_HW5_Data.xlsx'\n",
    "xl = pd.ExcelFile(file)\n",
    "d = xl.parse('P2')['x']\n",
    "\n",
    "for p in 95, 99:\n",
    "    print('The {}% confidence interval for the data set is {}'.format(p, ci(d, p)))"
   ]
  },
  {
   "cell_type": "markdown",
   "metadata": {},
   "source": [
    "## Problem 3: Confidence Interval (modified Problem 7 of Chapter 7 of the textbook)\n",
    "\n",
    "A historical geographer is interested in the average number of children of households in a certain city in 1800. Rather than spend the time analyzing each entry in the city directory, she decides to sample randomly from the directory and estimate the size from this sample.  In a sample of 56 households, she finds the average number of children to be 4.46 with a standard deviation of 2.06."
   ]
  },
  {
   "cell_type": "markdown",
   "metadata": {},
   "source": [
    "(a). Find the 99% confidence interval, using the t-distribution. (5 points)"
   ]
  },
  {
   "cell_type": "code",
   "execution_count": 5,
   "metadata": {},
   "outputs": [
    {
     "name": "stdout",
     "output_type": "stream",
     "text": [
      "The 99% confidence interval for the given information is [3.725, 5.195]\n"
     ]
    }
   ],
   "source": [
    "# SOLUTION: Add a confidence_interval2 function with appropriate parameters.\n",
    "# (see ggs560_tools.py attached for source code).\n",
    "from ggs560.ggs560_tools import confidence_interval2 as ci2\n",
    "\n",
    "s = 'The {}% confidence interval for the given information is {}'\n",
    "print(s.format(99, ci2(4.46, 2.06, 56, 99)))"
   ]
  },
  {
   "cell_type": "markdown",
   "metadata": {},
   "source": [
    "(b). Find the 99% confidence interval, using the z-distribution. (5 points)"
   ]
  },
  {
   "cell_type": "code",
   "execution_count": 6,
   "metadata": {},
   "outputs": [
    {
     "name": "stdout",
     "output_type": "stream",
     "text": [
      "The 99% confidence interval for the given information is [3.750, 5.170]\n"
     ]
    }
   ],
   "source": [
    "# SOLUTION: From the Standard Normal Probabilities table in Table A-3\n",
    "# of our text, z_0.005 = 2.58, thus\n",
    "\n",
    "offset = 2.58 * 2.06 / 56 ** 0.5\n",
    "s = 'The {}% confidence interval for the given information is [{:0.3f}, {:0.3f}]'\n",
    "print(s.format(99, 4.46 - offset, 4.46 + offset))"
   ]
  },
  {
   "cell_type": "markdown",
   "metadata": {},
   "source": [
    "## Problem 4: Multiple Choice (5 points, 2+3)\n",
    "\n",
    "Given the widths of confidence intervals based on the t-distribution with a degree-of-freedom 10 (CIWt) and the standard normal distribution (CIWnorm) for a given confidence level (say, 95%) one can find that\n",
    "\n",
    "    a.  CIWt > CIWnorm\n",
    "    b.  CIWt < CIWnorm\n",
    "    c.  CIWt = CIWnorm\n",
    "    d. none of a, b, and c. "
   ]
  },
  {
   "cell_type": "markdown",
   "metadata": {},
   "source": [
    "*SOLUTION*: a. CIWt > CIWnorm. The t-distribution provides less confidence, and thus a wider interval, than the standard normal distribution."
   ]
  },
  {
   "cell_type": "markdown",
   "metadata": {},
   "source": [
    "In a coin toss, which of the following would give you the greatest grounds for suspicion?\n",
    "\n",
    "    a. in 100 throws, 70 heads and 30 tails\n",
    "    b. in 20 throws, 14 heads and 6 tails\n",
    "    c. in 200 throws, 140 heads and 60 tails\n",
    "    d. in 200 throws, 120 heads and 80 tails"
   ]
  },
  {
   "cell_type": "code",
   "execution_count": 7,
   "metadata": {},
   "outputs": [
    {
     "name": "stdout",
     "output_type": "stream",
     "text": [
      "The 99% confidence interval:\n",
      "?: 0.582 <= 0.5 <= 0.818\n",
      "?: 0.436 <= 0.5 <= 0.964\n",
      "?: 0.616 <= 0.5 <= 0.784\n",
      "?: 0.511 <= 0.5 <= 0.689\n"
     ]
    }
   ],
   "source": [
    "# SOLUTION: c. 140 heads and 60 tails in 200 throws. This result\n",
    "# is fairly intuitive since the expected value of a fair coin\n",
    "# toss is 0.5, and the more times the coin is tossed the closer\n",
    "# to this value we would expect the result to be. a, b, and c all\n",
    "# have the same proportion of 70% heads, which is further from\n",
    "# the expected value of 50% heads than the 60% heads in d. Since\n",
    "# c has the largest number of trials among these, it is the\n",
    "# most problematic result.  More formally, we can use equation\n",
    "# 7-8 from page 314 of our text to look at the 99% confidence\n",
    "# intervals:\n",
    "\n",
    "def confidence_interval_for_pi(heads, throws, z_alpha_over_2):\n",
    "    p = heads / throws\n",
    "    offset = z_alpha_over_2 * (p * (1 - p) / throws) ** 0.5\n",
    "    s = '?: {:0.3f} <= 0.5 <= {:0.3f}'\n",
    "    return s.format(p - offset, p + offset)\n",
    "\n",
    "print(\"The 99% confidence interval:\")\n",
    "for h, t in [(70, 100), (14, 20), (140, 200), (120, 200)]:\n",
    "    print(confidence_interval_for_pi(h, t, 2.58))"
   ]
  },
  {
   "cell_type": "markdown",
   "metadata": {},
   "source": [
    "From these results, a, c, and d are all supicious, but c is still\n",
    "the most so."
   ]
  }
 ],
 "metadata": {
  "kernelspec": {
   "display_name": "Python 3",
   "language": "python",
   "name": "python3"
  },
  "language_info": {
   "codemirror_mode": {
    "name": "ipython",
    "version": 3
   },
   "file_extension": ".py",
   "mimetype": "text/x-python",
   "name": "python",
   "nbconvert_exporter": "python",
   "pygments_lexer": "ipython3",
   "version": "3.4.2"
  }
 },
 "nbformat": 4,
 "nbformat_minor": 2
}
