{
 "cells": [
  {
   "cell_type": "markdown",
   "metadata": {},
   "source": [
    "## Jeffrey Elkner\n",
    "\n",
    "### Point Pattern Analysis\n",
    "A subset of Atlantic tropical cyclone data for 1982-2009 period based on SHIPS database is provided. This subset contains only those TCs underwent rapid intensification process at the given time. In this assignment, only geolocations of the TC positions at given time are relevant. (Please use the projected data.)\n",
    "\n",
    "### Problem 1: Nearest Neighbor \n",
    "Perform the nearest neighbor analysis on the give data points. Please give the values of Observed Mean Distance, Expected Mean Distance, Nearest Neighbor Ratio (R), Z-score, and p-value. Please also draw your conclusion on the spatial pattern of the RI location distribution. (15 points)"
   ]
  },
  {
   "cell_type": "code",
   "execution_count": 1,
   "metadata": {
    "scrolled": false
   },
   "outputs": [
    {
     "data": {
      "image/png": "[encoded data removed]",
      "text/plain": [
       "<matplotlib.figure.Figure at 0x7f21acfcd7f0>"
      ]
     },
     "metadata": {},
     "output_type": "display_data"
    }
   ],
   "source": [
    "# https://tinyurl.com/averagenearestneighbor\n",
    "# http://www.qgistutorials.com/en/docs/nearest_neighbor_analysis.html\n",
    "import pandas as pd\n",
    "import matplotlib.pyplot as plt; plt.rcdefaults()\n",
    "from matplotlib.patches import Circle\n",
    "import numpy as np\n",
    "import thinkstats2 as ts\n",
    "import shapefile\n",
    "from ggs560.ggs560_tools import mean_center, standard_distance\n",
    "\n",
    "def shape2dataframe(path2shape):\n",
    "    sf = shapefile.Reader(path2shape)\n",
    "\n",
    "    #grab the shapefile's field names (omit the first psuedo field)\n",
    "    fields = [x[0] for x in sf.fields][1:]\n",
    "    records = sf.records()\n",
    "    shps = [s.points for s in sf.shapes()]\n",
    "\n",
    "    #write the records into a dataframe\n",
    "    shpdf = pd.DataFrame(columns=fields, data=records)\n",
    "\n",
    "    #add the coordinate data to a column called \"coords\"\n",
    "    shpdf = shpdf.assign(coords=shps)\n",
    "    \n",
    "    return shpdf\n",
    "\n",
    "\n",
    "def distance(p1, p2):\n",
    "    \"\"\"\n",
    "    Return the euclidean distance between to points.\n",
    "    \"\"\"\n",
    "    return ((p2[0] - p1[0])**2 + (p2[1] - p1[1])**2)**0.5\n",
    "\n",
    "\n",
    "def nearest_neighbor(point, points):\n",
    "    \"\"\"\n",
    "    Return the nearest neighbor to the given point and the\n",
    "    distance between the given point and its nearest neighbor.\n",
    "    \"\"\"\n",
    "    # choose arbitrary point as \"nearest\"\n",
    "    nn = points[0]\n",
    "    dmin = distance(point, nn)\n",
    "    \n",
    "    # Now find closes point\n",
    "    for p in points:\n",
    "        # if p equals the given point, it isn't a \"neighbor\"\n",
    "        if p[0] == point[0] and p[1] == point[1]:\n",
    "            continue\n",
    "        dp2p = distance(point, p)\n",
    "        if dp2p < dmin:\n",
    "            dmin = dp2p\n",
    "            nn = p\n",
    "    \n",
    "    return nn, dmin\n",
    "\n",
    "# Get the dataframe from the shapefile\n",
    "df = shape2dataframe('Data/Projected_RI_Hurricanes/RI_1982-2009_Project')\n",
    "\n",
    "# Create x and y lists for plotting and point tuples for nearest neighbor\n",
    "xs = [point[0][0] for point in df.coords]\n",
    "ys = [point[0][1] for point in df.coords]\n",
    "points = list(zip(xs, ys))\n",
    "\n",
    "# Pick a point in the middle and find nearest neighbor\n",
    "p = points[len(points) // 2]\n",
    "nn, d = nearest_neighbor(p, points)\n",
    "    \n",
    "# Now plot this to see if nn looks right\n",
    "plt.scatter(xs, ys, c='k', s=1)\n",
    "#plt.scatter([p[0]], [p[1]], c='r', s=1)\n",
    "plt.plot([[p[0], nn[0]]], [[p[1], nn[1]]], 'or')\n",
    "delta = 0.05e7\n",
    "plt.xlim(p[0]-delta, p[0]+delta)\n",
    "plt.xticks([])\n",
    "plt.ylim(p[1]-delta, p[1]+delta)\n",
    "plt.yticks([])\n",
    "plt.gca().annotate('P', xy=(p[0], p[1]), xytext=(p[0] + delta/30, p[1] + delta/30))\n",
    "plt.gca().set_aspect('equal')\n",
    "plt.title('Some RI Hurricane Data')\n",
    "plt.xlabel('Longitute')\n",
    "plt.ylabel('Latitude')\n",
    "plt.show()"
   ]
  },
  {
   "cell_type": "markdown",
   "metadata": {},
   "source": [
    "### Problem 2: K-function\n",
    "Perform the K-function analysis on the give data points. Please report\n",
    "> (1) A table listing the expected K and observed K values and their differences. (5 points)"
   ]
  },
  {
   "cell_type": "code",
   "execution_count": null,
   "metadata": {},
   "outputs": [],
   "source": []
  },
  {
   "cell_type": "markdown",
   "metadata": {},
   "source": [
    "> (2) A plot of both expected and observed K values with envelope curves by using 99 permutation. (5 points)"
   ]
  },
  {
   "cell_type": "code",
   "execution_count": null,
   "metadata": {},
   "outputs": [],
   "source": []
  },
  {
   "cell_type": "markdown",
   "metadata": {},
   "source": [
    "> (3) Discuss the results on the spatial pattern and its relation to the distance. (5 points)"
   ]
  },
  {
   "cell_type": "code",
   "execution_count": null,
   "metadata": {},
   "outputs": [],
   "source": []
  },
  {
   "cell_type": "markdown",
   "metadata": {},
   "source": [
    "> (Optional/open end/extra credit) Tune the parameters and options in the ArcGIS for the K-function and discuss the resulting differences (quantitative/qualitative) due to the change of parameters and selection. (1-x points)"
   ]
  },
  {
   "cell_type": "code",
   "execution_count": null,
   "metadata": {},
   "outputs": [],
   "source": []
  },
  {
   "cell_type": "markdown",
   "metadata": {},
   "source": [
    "### Notes on the science part:\n",
    "SHIPS (Statistical Hurricane Intensity Prediction Scheme) model for TC intensity forecasting is derived by regression analysis from a set of selected parameters sets (DeMaria & Kaplan 1994, 1999; DeMaria et al. 2005). The SHIPS data files can be found at ftp://rammftp.cira.colostate.edu/demaria/SHIPS/. One of the data files for the period 1989-2009 hurricane season can be downloaded at ftp://rammftp.cira.colostate.edu/demaria/SHIPS/2010/lsdiaga_1982_2009_rean_biascorr_sat.dat, and the corresponding document file for this data file is also available at ftp://rammftp.cira.colostate.edu/demaria/SHIPS/2009/SHIPS_predictor_file_2009.doc. The original data are in ASCII but the data are hard to handle.\n",
    "Rapid intensification (RI) is defined as rapid intensity increase in a short time, typically 30 knots of wind increase in 24 hours (Kaplan and DeMaria 2003; Yang et al. 2007; Kaplan et al. 2010). RI is relatively rare cases with a probability around 5% overall.\n",
    "\n",
    "\n",
    "### References: \n",
    "Kaplan, J. and M. DeMaria (2003), Large-scale characteristics of rapidly intensifying tropical cyclones in the North Atlantic basin, Wea. Forecasting, 18, 1093-1108.\n",
    "\n",
    "Kaplan, J., M. DeMaria, and J.A. Knaff (2010): A revised tropical cyclone rapid intensification index for the Atlantic and east Pacific basins. Wea. Forecasting, 25, 220-241. \n",
    "\n",
    "Yang, R., J. Tang, and M. Kafatos (2007), “Improved associated conditions in rapid intensifications of tropical cyclones,” Geophys. Res. Lett., 34, L20807, doi:10.1029/2007GL031241. \n",
    "\n",
    "DeMaria, M., and J. Kaplan, 1994b:  A statistical hurricane intensity prediction scheme (SHIPS) for the Atlantic basin, Wea. Forecasting, 9, 209-220. \n",
    "\n",
    "DeMaria, M. and J. Kaplan, 1999:  An Updated Statistical Hurricane Intensity Prediction Scheme (SHIPS) for the Atlantic and Eastern North Pacific Basins Mark, Wea. Forecasting, 14, 326–337. \n",
    "\n",
    "DeMaria, M., M. Mainelli,  L. K. Shay,  J. A. Knaff, and J. Kaplan, 2005:  Further Improvements to the Statistical Hurricane Intensity Prediction Scheme (SHIPS), Wea. Forecasting, 20, 531–543."
   ]
  }
 ],
 "metadata": {
  "kernelspec": {
   "display_name": "Python 3",
   "language": "python",
   "name": "python3"
  },
  "language_info": {
   "codemirror_mode": {
    "name": "ipython",
    "version": 3
   },
   "file_extension": ".py",
   "mimetype": "text/x-python",
   "name": "python",
   "nbconvert_exporter": "python",
   "pygments_lexer": "ipython3",
   "version": "3.4.2"
  }
 },
 "nbformat": 4,
 "nbformat_minor": 2
}
